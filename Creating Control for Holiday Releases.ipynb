{
 "cells": [
  {
   "cell_type": "code",
   "execution_count": 3,
   "id": "f4537bec-537c-42e6-8059-38d5ea5357bf",
   "metadata": {},
   "outputs": [
    {
     "name": "stdout",
     "output_type": "stream",
     "text": [
      "Collecting holidays\n",
      "  Downloading holidays-0.74-py3-none-any.whl.metadata (39 kB)\n",
      "Requirement already satisfied: python-dateutil in /opt/anaconda3/lib/python3.12/site-packages (from holidays) (2.9.0.post0)\n",
      "Requirement already satisfied: six>=1.5 in /opt/anaconda3/lib/python3.12/site-packages (from python-dateutil->holidays) (1.16.0)\n",
      "Downloading holidays-0.74-py3-none-any.whl (990 kB)\n",
      "\u001b[2K   \u001b[90m━━━━━━━━━━━━━━━━━━━━━━━━━━━━━━━━━━━━━━━━\u001b[0m \u001b[32m991.0/991.0 kB\u001b[0m \u001b[31m9.2 MB/s\u001b[0m eta \u001b[36m0:00:00\u001b[0m\n",
      "\u001b[?25hInstalling collected packages: holidays\n",
      "Successfully installed holidays-0.74\n"
     ]
    }
   ],
   "source": [
    "!pip install holidays"
   ]
  },
  {
   "cell_type": "code",
   "execution_count": 5,
   "id": "bda8bfbb-30fd-4033-a8d4-5ea31c935363",
   "metadata": {},
   "outputs": [],
   "source": [
    "import pandas as pd\n",
    "import holidays\n",
    "import os\n",
    "\n",
    "# set the working directory\n",
    "os.chdir(\"/Users/talhaahmed/Desktop/Thesis/Thesis Data\")\n",
    "\n",
    "# Load your R-exported metadata file\n",
    "movie_metadata = pd.read_csv(\"super_final_metadata.csv\")\n",
    "movie_metadata['release_date'] = pd.to_datetime(movie_metadata['release_date'])"
   ]
  },
  {
   "cell_type": "code",
   "execution_count": 7,
   "id": "55258fbe-240e-41a6-bdf0-ac1fd9bb8433",
   "metadata": {},
   "outputs": [
    {
     "data": {
      "text/html": [
       "<div>\n",
       "<style scoped>\n",
       "    .dataframe tbody tr th:only-of-type {\n",
       "        vertical-align: middle;\n",
       "    }\n",
       "\n",
       "    .dataframe tbody tr th {\n",
       "        vertical-align: top;\n",
       "    }\n",
       "\n",
       "    .dataframe thead th {\n",
       "        text-align: right;\n",
       "    }\n",
       "</style>\n",
       "<table border=\"1\" class=\"dataframe\">\n",
       "  <thead>\n",
       "    <tr style=\"text-align: right;\">\n",
       "      <th></th>\n",
       "      <th>Unnamed: 0</th>\n",
       "      <th>release_date</th>\n",
       "      <th>title</th>\n",
       "      <th>rating</th>\n",
       "      <th>distributor_name</th>\n",
       "      <th>us_distributor</th>\n",
       "      <th>opening_locs</th>\n",
       "      <th>widest_locs</th>\n",
       "      <th>opening_wknd_local_currency</th>\n",
       "      <th>opening_week_local_currency</th>\n",
       "      <th>...</th>\n",
       "      <th>booking_title_number</th>\n",
       "      <th>bafta_awards</th>\n",
       "      <th>title_global_id</th>\n",
       "      <th>star_power_count</th>\n",
       "      <th>director_clean</th>\n",
       "      <th>director_power</th>\n",
       "      <th>us_distributor_clean</th>\n",
       "      <th>year</th>\n",
       "      <th>us_distributor_final</th>\n",
       "      <th>distributor_power</th>\n",
       "    </tr>\n",
       "  </thead>\n",
       "  <tbody>\n",
       "    <tr>\n",
       "      <th>0</th>\n",
       "      <td>1</td>\n",
       "      <td>2019-01-03</td>\n",
       "      <td>Old Man &amp; The Gun, The</td>\n",
       "      <td>12</td>\n",
       "      <td>Lusomundo</td>\n",
       "      <td>Fox Searchlight</td>\n",
       "      <td>35</td>\n",
       "      <td>35</td>\n",
       "      <td>63117.0</td>\n",
       "      <td>81323.0</td>\n",
       "      <td>...</td>\n",
       "      <td>144982</td>\n",
       "      <td>NaN</td>\n",
       "      <td>TTL-86352</td>\n",
       "      <td>0</td>\n",
       "      <td>david lowery</td>\n",
       "      <td>0</td>\n",
       "      <td>fox searchlight</td>\n",
       "      <td>2019</td>\n",
       "      <td>fox searchlight</td>\n",
       "      <td>1</td>\n",
       "    </tr>\n",
       "    <tr>\n",
       "      <th>1</th>\n",
       "      <td>2</td>\n",
       "      <td>2019-01-03</td>\n",
       "      <td>Holmes And Watson</td>\n",
       "      <td>12</td>\n",
       "      <td>Sony Int'l</td>\n",
       "      <td>Sony</td>\n",
       "      <td>48</td>\n",
       "      <td>48</td>\n",
       "      <td>78753.0</td>\n",
       "      <td>94924.0</td>\n",
       "      <td>...</td>\n",
       "      <td>133113</td>\n",
       "      <td>NaN</td>\n",
       "      <td>TTL-78696</td>\n",
       "      <td>2</td>\n",
       "      <td>etan cohen</td>\n",
       "      <td>0</td>\n",
       "      <td>sony</td>\n",
       "      <td>2019</td>\n",
       "      <td>sony pictures</td>\n",
       "      <td>1</td>\n",
       "    </tr>\n",
       "    <tr>\n",
       "      <th>2</th>\n",
       "      <td>3</td>\n",
       "      <td>2019-01-10</td>\n",
       "      <td>Escape Room</td>\n",
       "      <td>14</td>\n",
       "      <td>Sony Int'l</td>\n",
       "      <td>Sony</td>\n",
       "      <td>33</td>\n",
       "      <td>38</td>\n",
       "      <td>124146.0</td>\n",
       "      <td>159564.0</td>\n",
       "      <td>...</td>\n",
       "      <td>147890</td>\n",
       "      <td>NaN</td>\n",
       "      <td>TTL-89040</td>\n",
       "      <td>0</td>\n",
       "      <td>adam robitel</td>\n",
       "      <td>0</td>\n",
       "      <td>sony</td>\n",
       "      <td>2019</td>\n",
       "      <td>sony pictures</td>\n",
       "      <td>1</td>\n",
       "    </tr>\n",
       "    <tr>\n",
       "      <th>3</th>\n",
       "      <td>4</td>\n",
       "      <td>2019-01-10</td>\n",
       "      <td>On The Basis Of Sex</td>\n",
       "      <td>12</td>\n",
       "      <td>PRIS</td>\n",
       "      <td>Focus Features</td>\n",
       "      <td>32</td>\n",
       "      <td>32</td>\n",
       "      <td>39645.0</td>\n",
       "      <td>51380.0</td>\n",
       "      <td>...</td>\n",
       "      <td>144666</td>\n",
       "      <td>NaN</td>\n",
       "      <td>TTL-85844</td>\n",
       "      <td>0</td>\n",
       "      <td>mimi leder</td>\n",
       "      <td>0</td>\n",
       "      <td>focus features</td>\n",
       "      <td>2019</td>\n",
       "      <td>focus features</td>\n",
       "      <td>1</td>\n",
       "    </tr>\n",
       "    <tr>\n",
       "      <th>4</th>\n",
       "      <td>5</td>\n",
       "      <td>2019-01-10</td>\n",
       "      <td>Vox Lux</td>\n",
       "      <td>14</td>\n",
       "      <td>Lusomundo</td>\n",
       "      <td>Neon Rated</td>\n",
       "      <td>18</td>\n",
       "      <td>18</td>\n",
       "      <td>11830.0</td>\n",
       "      <td>15329.0</td>\n",
       "      <td>...</td>\n",
       "      <td>152232</td>\n",
       "      <td>NaN</td>\n",
       "      <td>TTL-92274</td>\n",
       "      <td>2</td>\n",
       "      <td>brady corbet</td>\n",
       "      <td>0</td>\n",
       "      <td>neon rated</td>\n",
       "      <td>2019</td>\n",
       "      <td>neon rated</td>\n",
       "      <td>0</td>\n",
       "    </tr>\n",
       "  </tbody>\n",
       "</table>\n",
       "<p>5 rows × 45 columns</p>\n",
       "</div>"
      ],
      "text/plain": [
       "   Unnamed: 0 release_date                   title  rating distributor_name  \\\n",
       "0           1   2019-01-03  Old Man & The Gun, The      12        Lusomundo   \n",
       "1           2   2019-01-03       Holmes And Watson      12       Sony Int'l   \n",
       "2           3   2019-01-10             Escape Room      14       Sony Int'l   \n",
       "3           4   2019-01-10     On The Basis Of Sex      12             PRIS   \n",
       "4           5   2019-01-10                 Vox Lux      14        Lusomundo   \n",
       "\n",
       "    us_distributor  opening_locs  widest_locs  opening_wknd_local_currency  \\\n",
       "0  Fox Searchlight            35           35                      63117.0   \n",
       "1             Sony            48           48                      78753.0   \n",
       "2             Sony            33           38                     124146.0   \n",
       "3   Focus Features            32           32                      39645.0   \n",
       "4       Neon Rated            18           18                      11830.0   \n",
       "\n",
       "   opening_week_local_currency  ...  booking_title_number  bafta_awards  \\\n",
       "0                      81323.0  ...                144982           NaN   \n",
       "1                      94924.0  ...                133113           NaN   \n",
       "2                     159564.0  ...                147890           NaN   \n",
       "3                      51380.0  ...                144666           NaN   \n",
       "4                      15329.0  ...                152232           NaN   \n",
       "\n",
       "   title_global_id  star_power_count  director_clean  director_power  \\\n",
       "0        TTL-86352                 0    david lowery               0   \n",
       "1        TTL-78696                 2      etan cohen               0   \n",
       "2        TTL-89040                 0    adam robitel               0   \n",
       "3        TTL-85844                 0      mimi leder               0   \n",
       "4        TTL-92274                 2    brady corbet               0   \n",
       "\n",
       "   us_distributor_clean  year  us_distributor_final  distributor_power  \n",
       "0       fox searchlight  2019       fox searchlight                  1  \n",
       "1                  sony  2019         sony pictures                  1  \n",
       "2                  sony  2019         sony pictures                  1  \n",
       "3        focus features  2019        focus features                  1  \n",
       "4            neon rated  2019            neon rated                  0  \n",
       "\n",
       "[5 rows x 45 columns]"
      ]
     },
     "execution_count": 7,
     "metadata": {},
     "output_type": "execute_result"
    }
   ],
   "source": [
    "movie_metadata.head()"
   ]
  },
  {
   "cell_type": "code",
   "execution_count": 9,
   "id": "6a36d49e-8a6a-4921-b6e6-73e46291e870",
   "metadata": {},
   "outputs": [],
   "source": [
    "# Build Portugal holiday calendar for 2019–2024\n",
    "pt_holidays = holidays.Portugal(years=range(2019, 2025))"
   ]
  },
  {
   "cell_type": "code",
   "execution_count": 13,
   "id": "3979cb5a-41a8-457b-842e-bbb8900c9d06",
   "metadata": {},
   "outputs": [
    {
     "ename": "AttributeError",
     "evalue": "'Portugal' object has no attribute 'head'",
     "output_type": "error",
     "traceback": [
      "\u001b[0;31m---------------------------------------------------------------------------\u001b[0m",
      "\u001b[0;31mAttributeError\u001b[0m                            Traceback (most recent call last)",
      "Cell \u001b[0;32mIn[13], line 1\u001b[0m\n\u001b[0;32m----> 1\u001b[0m pt_holidays\u001b[38;5;241m.\u001b[39mhead()\n",
      "File \u001b[0;32m/opt/anaconda3/lib/python3.12/site-packages/holidays/holiday_base.py:470\u001b[0m, in \u001b[0;36mHolidayBase.__getattr__\u001b[0;34m(self, name)\u001b[0m\n\u001b[1;32m    468\u001b[0m \u001b[38;5;66;03m# Raise early if prefix doesn't match to avoid patterns checks.\u001b[39;00m\n\u001b[1;32m    469\u001b[0m \u001b[38;5;28;01mif\u001b[39;00m name[: \u001b[38;5;28mlen\u001b[39m(add_holiday_prefix)] \u001b[38;5;241m!=\u001b[39m add_holiday_prefix:\n\u001b[0;32m--> 470\u001b[0m     \u001b[38;5;28;01mraise\u001b[39;00m e\n\u001b[1;32m    472\u001b[0m tokens \u001b[38;5;241m=\u001b[39m name\u001b[38;5;241m.\u001b[39msplit(\u001b[38;5;124m\"\u001b[39m\u001b[38;5;124m_\u001b[39m\u001b[38;5;124m\"\u001b[39m)\n\u001b[1;32m    474\u001b[0m \u001b[38;5;66;03m# Handle <month> <day> patterns (e.g., _add_holiday_jun_15()).\u001b[39;00m\n",
      "File \u001b[0;32m/opt/anaconda3/lib/python3.12/site-packages/holidays/holiday_base.py:464\u001b[0m, in \u001b[0;36mHolidayBase.__getattr__\u001b[0;34m(self, name)\u001b[0m\n\u001b[1;32m    462\u001b[0m \u001b[38;5;28;01mdef\u001b[39;00m \u001b[38;5;21m__getattr__\u001b[39m(\u001b[38;5;28mself\u001b[39m, name):\n\u001b[1;32m    463\u001b[0m     \u001b[38;5;28;01mtry\u001b[39;00m:\n\u001b[0;32m--> 464\u001b[0m         \u001b[38;5;28;01mreturn\u001b[39;00m \u001b[38;5;28mself\u001b[39m\u001b[38;5;241m.\u001b[39m\u001b[38;5;21m__getattribute__\u001b[39m(name)\n\u001b[1;32m    465\u001b[0m     \u001b[38;5;28;01mexcept\u001b[39;00m \u001b[38;5;167;01mAttributeError\u001b[39;00m \u001b[38;5;28;01mas\u001b[39;00m e:\n\u001b[1;32m    466\u001b[0m         \u001b[38;5;66;03m# This part is responsible for _add_holiday_* syntactic sugar support.\u001b[39;00m\n\u001b[1;32m    467\u001b[0m         add_holiday_prefix \u001b[38;5;241m=\u001b[39m \u001b[38;5;124m\"\u001b[39m\u001b[38;5;124m_add_holiday_\u001b[39m\u001b[38;5;124m\"\u001b[39m\n",
      "\u001b[0;31mAttributeError\u001b[0m: 'Portugal' object has no attribute 'head'"
     ]
    }
   ],
   "source": [
    "pt_holidays.head()"
   ]
  },
  {
   "cell_type": "code",
   "execution_count": 15,
   "id": "de4f8369-917a-4408-9673-e555e1484fbf",
   "metadata": {},
   "outputs": [
    {
     "data": {
      "text/plain": [
       "{datetime.date(2019, 1, 1): 'Ano Novo', datetime.date(2019, 4, 19): 'Sexta-feira Santa', datetime.date(2019, 4, 21): 'Páscoa', datetime.date(2019, 6, 20): 'Corpo de Deus', datetime.date(2019, 10, 5): 'Implantação da República', datetime.date(2019, 11, 1): 'Dia de Todos os Santos', datetime.date(2019, 12, 1): 'Restauração da Independência', datetime.date(2019, 4, 25): 'Dia da Liberdade', datetime.date(2019, 5, 1): 'Dia do Trabalhador', datetime.date(2019, 6, 10): 'Dia de Portugal, de Camões e das Comunidades Portuguesas', datetime.date(2019, 8, 15): 'Assunção de Nossa Senhora', datetime.date(2019, 12, 8): 'Imaculada Conceição', datetime.date(2019, 12, 25): 'Dia de Natal', datetime.date(2020, 1, 1): 'Ano Novo', datetime.date(2020, 4, 10): 'Sexta-feira Santa', datetime.date(2020, 4, 12): 'Páscoa', datetime.date(2020, 6, 11): 'Corpo de Deus', datetime.date(2020, 10, 5): 'Implantação da República', datetime.date(2020, 11, 1): 'Dia de Todos os Santos', datetime.date(2020, 12, 1): 'Restauração da Independência', datetime.date(2020, 4, 25): 'Dia da Liberdade', datetime.date(2020, 5, 1): 'Dia do Trabalhador', datetime.date(2020, 6, 10): 'Dia de Portugal, de Camões e das Comunidades Portuguesas', datetime.date(2020, 8, 15): 'Assunção de Nossa Senhora', datetime.date(2020, 12, 8): 'Imaculada Conceição', datetime.date(2020, 12, 25): 'Dia de Natal', datetime.date(2021, 1, 1): 'Ano Novo', datetime.date(2021, 4, 2): 'Sexta-feira Santa', datetime.date(2021, 4, 4): 'Páscoa', datetime.date(2021, 6, 3): 'Corpo de Deus', datetime.date(2021, 10, 5): 'Implantação da República', datetime.date(2021, 11, 1): 'Dia de Todos os Santos', datetime.date(2021, 12, 1): 'Restauração da Independência', datetime.date(2021, 4, 25): 'Dia da Liberdade', datetime.date(2021, 5, 1): 'Dia do Trabalhador', datetime.date(2021, 6, 10): 'Dia de Portugal, de Camões e das Comunidades Portuguesas', datetime.date(2021, 8, 15): 'Assunção de Nossa Senhora', datetime.date(2021, 12, 8): 'Imaculada Conceição', datetime.date(2021, 12, 25): 'Dia de Natal', datetime.date(2022, 1, 1): 'Ano Novo', datetime.date(2022, 4, 15): 'Sexta-feira Santa', datetime.date(2022, 4, 17): 'Páscoa', datetime.date(2022, 6, 16): 'Corpo de Deus', datetime.date(2022, 10, 5): 'Implantação da República', datetime.date(2022, 11, 1): 'Dia de Todos os Santos', datetime.date(2022, 12, 1): 'Restauração da Independência', datetime.date(2022, 4, 25): 'Dia da Liberdade', datetime.date(2022, 5, 1): 'Dia do Trabalhador', datetime.date(2022, 6, 10): 'Dia de Portugal, de Camões e das Comunidades Portuguesas', datetime.date(2022, 8, 15): 'Assunção de Nossa Senhora', datetime.date(2022, 12, 8): 'Imaculada Conceição', datetime.date(2022, 12, 25): 'Dia de Natal', datetime.date(2023, 1, 1): 'Ano Novo', datetime.date(2023, 4, 7): 'Sexta-feira Santa', datetime.date(2023, 4, 9): 'Páscoa', datetime.date(2023, 6, 8): 'Corpo de Deus', datetime.date(2023, 10, 5): 'Implantação da República', datetime.date(2023, 11, 1): 'Dia de Todos os Santos', datetime.date(2023, 12, 1): 'Restauração da Independência', datetime.date(2023, 4, 25): 'Dia da Liberdade', datetime.date(2023, 5, 1): 'Dia do Trabalhador', datetime.date(2023, 6, 10): 'Dia de Portugal, de Camões e das Comunidades Portuguesas', datetime.date(2023, 8, 15): 'Assunção de Nossa Senhora', datetime.date(2023, 12, 8): 'Imaculada Conceição', datetime.date(2023, 12, 25): 'Dia de Natal', datetime.date(2024, 1, 1): 'Ano Novo', datetime.date(2024, 3, 29): 'Sexta-feira Santa', datetime.date(2024, 3, 31): 'Páscoa', datetime.date(2024, 5, 30): 'Corpo de Deus', datetime.date(2024, 10, 5): 'Implantação da República', datetime.date(2024, 11, 1): 'Dia de Todos os Santos', datetime.date(2024, 12, 1): 'Restauração da Independência', datetime.date(2024, 4, 25): 'Dia da Liberdade', datetime.date(2024, 5, 1): 'Dia do Trabalhador', datetime.date(2024, 6, 10): 'Dia de Portugal, de Camões e das Comunidades Portuguesas', datetime.date(2024, 8, 15): 'Assunção de Nossa Senhora', datetime.date(2024, 12, 8): 'Imaculada Conceição', datetime.date(2024, 12, 25): 'Dia de Natal'}"
      ]
     },
     "execution_count": 15,
     "metadata": {},
     "output_type": "execute_result"
    }
   ],
   "source": [
    "holidays.Portugal(years=range(2019, 2025))"
   ]
  },
  {
   "cell_type": "code",
   "execution_count": 17,
   "id": "a5e0a068-5d23-4cb0-8bf1-f984777a9281",
   "metadata": {},
   "outputs": [],
   "source": [
    "# Define holiday release: Thurs–Sun after release date\n",
    "def is_holiday_release(date):\n",
    "    opening_days = [date + pd.Timedelta(days=i) for i in range(4)]\n",
    "    return int(any(day in pt_holidays for day in opening_days))\n",
    "\n",
    "movie_metadata['is_holiday_release'] = movie_metadata['release_date'].apply(is_holiday_release)"
   ]
  },
  {
   "cell_type": "code",
   "execution_count": 19,
   "id": "ff44b072-c381-4223-a547-89cdee04fc9b",
   "metadata": {},
   "outputs": [
    {
     "data": {
      "text/plain": [
       "0    0\n",
       "1    0\n",
       "2    0\n",
       "3    0\n",
       "4    0\n",
       "Name: is_holiday_release, dtype: int64"
      ]
     },
     "execution_count": 19,
     "metadata": {},
     "output_type": "execute_result"
    }
   ],
   "source": [
    "movie_metadata.is_holiday_release.head()"
   ]
  },
  {
   "cell_type": "code",
   "execution_count": 21,
   "id": "963adfd6-6fac-41c4-88c4-6eda6fffa9ac",
   "metadata": {},
   "outputs": [],
   "source": [
    "# Export for use in R or merge back into modeling data\n",
    "movie_metadata.to_csv(\"metadata_with_holiday_flag.csv\", index=False)"
   ]
  },
  {
   "cell_type": "code",
   "execution_count": null,
   "id": "cee99502-8ec6-43bf-82f7-842afb89945f",
   "metadata": {},
   "outputs": [],
   "source": []
  }
 ],
 "metadata": {
  "kernelspec": {
   "display_name": "Python [conda env:base] *",
   "language": "python",
   "name": "conda-base-py"
  },
  "language_info": {
   "codemirror_mode": {
    "name": "ipython",
    "version": 3
   },
   "file_extension": ".py",
   "mimetype": "text/x-python",
   "name": "python",
   "nbconvert_exporter": "python",
   "pygments_lexer": "ipython3",
   "version": "3.12.7"
  }
 },
 "nbformat": 4,
 "nbformat_minor": 5
}
