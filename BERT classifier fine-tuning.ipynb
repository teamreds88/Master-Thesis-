{
 "cells": [
  {
   "cell_type": "code",
   "execution_count": 1,
   "id": "6b8ec903-84a0-4eee-aef4-e7dcb11d7496",
   "metadata": {},
   "outputs": [],
   "source": [
    "# 1. Imports and Data Loading\n",
    "import os\n",
    "import pandas as pd\n",
    "from datasets import Dataset\n",
    "from sklearn.model_selection import train_test_split\n",
    "from transformers import AutoTokenizer\n",
    "\n",
    "# Set working directory\n",
    "os.chdir(\"/Users/talhaahmed/Desktop/Thesis/Thesis Data\")"
   ]
  },
  {
   "cell_type": "code",
   "execution_count": 11,
   "id": "aad2b44e-4448-4860-a4da-68934bd3e017",
   "metadata": {},
   "outputs": [],
   "source": [
    "# Load and clean data\n",
    "df = pd.read_csv(\"vader_labeled_comments_full.csv\")\n",
    "df = df.dropna(subset=['comment', 'vader_sentiment'])\n",
    "df = df[['comment', 'vader_sentiment']]\n",
    "\n",
    "# Map sentiment to numeric labels\n",
    "label_map = {'negative': 0, 'neutral': 1, 'positive': 2}\n",
    "df['label'] = df['vader_sentiment'].map(label_map).astype(int)"
   ]
  },
  {
   "cell_type": "code",
   "execution_count": 13,
   "id": "b0c90598-c5cb-4d18-b4f6-b044a4e46d7e",
   "metadata": {},
   "outputs": [
    {
     "name": "stdout",
     "output_type": "stream",
     "text": [
      "Index(['comment', 'vader_sentiment', 'label'], dtype='object')\n"
     ]
    }
   ],
   "source": [
    "print(df.columns)"
   ]
  },
  {
   "cell_type": "code",
   "execution_count": 15,
   "id": "72979e05-a375-4df4-98c3-6c1530ddad5c",
   "metadata": {},
   "outputs": [
    {
     "data": {
      "text/html": [
       "<div>\n",
       "<style scoped>\n",
       "    .dataframe tbody tr th:only-of-type {\n",
       "        vertical-align: middle;\n",
       "    }\n",
       "\n",
       "    .dataframe tbody tr th {\n",
       "        vertical-align: top;\n",
       "    }\n",
       "\n",
       "    .dataframe thead th {\n",
       "        text-align: right;\n",
       "    }\n",
       "</style>\n",
       "<table border=\"1\" class=\"dataframe\">\n",
       "  <thead>\n",
       "    <tr style=\"text-align: right;\">\n",
       "      <th></th>\n",
       "      <th>comment</th>\n",
       "      <th>vader_sentiment</th>\n",
       "      <th>label</th>\n",
       "    </tr>\n",
       "  </thead>\n",
       "  <tbody>\n",
       "    <tr>\n",
       "      <th>0</th>\n",
       "      <td>Great n amazing movie..As a south east asia pe...</td>\n",
       "      <td>positive</td>\n",
       "      <td>2</td>\n",
       "    </tr>\n",
       "    <tr>\n",
       "      <th>1</th>\n",
       "      <td>This looks so much better!!!!! 🎉</td>\n",
       "      <td>positive</td>\n",
       "      <td>2</td>\n",
       "    </tr>\n",
       "    <tr>\n",
       "      <th>2</th>\n",
       "      <td>I have never wanted to see a movie more than this</td>\n",
       "      <td>neutral</td>\n",
       "      <td>1</td>\n",
       "    </tr>\n",
       "    <tr>\n",
       "      <th>3</th>\n",
       "      <td>I just can't wait to finally see it! Johnny's ...</td>\n",
       "      <td>positive</td>\n",
       "      <td>2</td>\n",
       "    </tr>\n",
       "    <tr>\n",
       "      <th>4</th>\n",
       "      <td>Elements don’t have body’s and don’t wear clot...</td>\n",
       "      <td>neutral</td>\n",
       "      <td>1</td>\n",
       "    </tr>\n",
       "  </tbody>\n",
       "</table>\n",
       "</div>"
      ],
      "text/plain": [
       "                                             comment vader_sentiment  label\n",
       "0  Great n amazing movie..As a south east asia pe...        positive      2\n",
       "1                   This looks so much better!!!!! 🎉        positive      2\n",
       "2  I have never wanted to see a movie more than this         neutral      1\n",
       "3  I just can't wait to finally see it! Johnny's ...        positive      2\n",
       "4  Elements don’t have body’s and don’t wear clot...         neutral      1"
      ]
     },
     "execution_count": 15,
     "metadata": {},
     "output_type": "execute_result"
    }
   ],
   "source": [
    "df.head()"
   ]
  },
  {
   "cell_type": "code",
   "execution_count": 17,
   "id": "4db0b97d-3efe-4a62-8242-439777486a86",
   "metadata": {},
   "outputs": [],
   "source": [
    "# 2. Train/Validation/Test Split (70/15/15)\n",
    "train_df, temp_df = train_test_split(df, test_size=0.3, random_state=42, stratify=df['label'])\n",
    "val_df, test_df = train_test_split(temp_df, test_size=0.5, random_state=42, stratify=temp_df['label'])\n",
    "\n",
    "train_ds = Dataset.from_pandas(train_df.reset_index(drop=True))\n",
    "val_ds = Dataset.from_pandas(val_df.reset_index(drop=True))\n",
    "test_ds = Dataset.from_pandas(test_df.reset_index(drop=True))\n"
   ]
  },
  {
   "cell_type": "code",
   "execution_count": 19,
   "id": "2206165d-7c99-4700-b06a-665d78f24c78",
   "metadata": {},
   "outputs": [
    {
     "data": {
      "application/vnd.jupyter.widget-view+json": {
       "model_id": "2a1c2dca269340b982113af3555577a1",
       "version_major": 2,
       "version_minor": 0
      },
      "text/plain": [
       "Map:   0%|          | 0/55993 [00:00<?, ? examples/s]"
      ]
     },
     "metadata": {},
     "output_type": "display_data"
    },
    {
     "data": {
      "application/vnd.jupyter.widget-view+json": {
       "model_id": "72531be0d9894397a1159c27590dc6e3",
       "version_major": 2,
       "version_minor": 0
      },
      "text/plain": [
       "Map:   0%|          | 0/11999 [00:00<?, ? examples/s]"
      ]
     },
     "metadata": {},
     "output_type": "display_data"
    },
    {
     "data": {
      "application/vnd.jupyter.widget-view+json": {
       "model_id": "6e9e837690f3479a9b8deba3123d2739",
       "version_major": 2,
       "version_minor": 0
      },
      "text/plain": [
       "Map:   0%|          | 0/11999 [00:00<?, ? examples/s]"
      ]
     },
     "metadata": {},
     "output_type": "display_data"
    }
   ],
   "source": [
    "# 3. Tokenizer and Preprocessing\n",
    "tokenizer = AutoTokenizer.from_pretrained(\"bert-base-uncased\")\n",
    "\n",
    "def tokenize(example):\n",
    "    tokens = tokenizer(example['comment'], truncation=True, padding=\"max_length\", max_length=256)\n",
    "    tokens['label'] = int(example['label'])\n",
    "    return tokens\n",
    "\n",
    "train_ds = train_ds.map(tokenize)\n",
    "val_ds = val_ds.map(tokenize)\n",
    "test_ds = test_ds.map(tokenize)\n",
    "\n",
    "train_ds.set_format(type=\"torch\", columns=[\"input_ids\", \"attention_mask\", \"label\"])\n",
    "val_ds.set_format(type=\"torch\", columns=[\"input_ids\", \"attention_mask\", \"label\"])\n",
    "test_ds.set_format(type=\"torch\", columns=[\"input_ids\", \"attention_mask\", \"label\"])"
   ]
  },
  {
   "cell_type": "code",
   "execution_count": 21,
   "id": "93879c58-1d20-408b-a5e5-e1df9ccee7a8",
   "metadata": {},
   "outputs": [],
   "source": [
    "# 4. Model Initialization\n",
    "from transformers import BertForSequenceClassification\n",
    "\n",
    "def model_init():\n",
    "    return BertForSequenceClassification.from_pretrained(\"bert-base-uncased\", num_labels=3)\n",
    "\n",
    "# 5. Metrics\n",
    "import numpy as np\n",
    "from sklearn.metrics import accuracy_score, f1_score, precision_score, recall_score\n",
    "\n",
    "def compute_metrics(pred):\n",
    "    preds = np.argmax(pred.predictions, axis=1)\n",
    "    labels = pred.label_ids\n",
    "    return {\n",
    "        'accuracy': accuracy_score(labels, preds),\n",
    "        'f1': f1_score(labels, preds, average='weighted'),\n",
    "        'precision': precision_score(labels, preds, average='weighted'),\n",
    "        'recall': recall_score(labels, preds, average='weighted')\n",
    "    }"
   ]
  },
  {
   "cell_type": "code",
   "execution_count": 25,
   "id": "e5cfe937-0713-43ea-9940-6da3c73230ac",
   "metadata": {},
   "outputs": [],
   "source": [
    "# 6. Base TrainingArguments for Optuna\n",
    "from transformers import TrainingArguments, Trainer, EarlyStoppingCallback, DataCollatorWithPadding\n",
    "\n",
    "base_training_args = TrainingArguments(\n",
    "    output_dir=\"./bert_classification_model\",\n",
    "    eval_strategy=\"epoch\",\n",
    "    save_strategy=\"epoch\",\n",
    "    logging_dir=\"./logs\",\n",
    "    report_to=\"none\",\n",
    "    load_best_model_at_end=True,\n",
    "    metric_for_best_model=\"f1\",\n",
    "    greater_is_better=True,\n",
    "    seed=42\n",
    ")\n",
    "\n",
    "data_collator = DataCollatorWithPadding(tokenizer=tokenizer)"
   ]
  },
  {
   "cell_type": "code",
   "execution_count": 27,
   "id": "526c3fa4-aecf-49d6-91f1-f256c0088bd2",
   "metadata": {},
   "outputs": [
    {
     "name": "stderr",
     "output_type": "stream",
     "text": [
      "/var/folders/l9/8hmxymj146lc9m7tzd_r6lbm0000gn/T/ipykernel_57053/2850111560.py:12: FutureWarning: `tokenizer` is deprecated and will be removed in version 5.0.0 for `Trainer.__init__`. Use `processing_class` instead.\n",
      "  trainer = Trainer(\n",
      "Some weights of BertForSequenceClassification were not initialized from the model checkpoint at bert-base-uncased and are newly initialized: ['classifier.bias', 'classifier.weight']\n",
      "You should probably TRAIN this model on a down-stream task to be able to use it for predictions and inference.\n",
      "[I 2025-06-15 17:55:16,038] A new study created in memory with name: no-name-7452c5ea-ce1c-482b-ba04-1a26f7fd41f1\n",
      "Some weights of BertForSequenceClassification were not initialized from the model checkpoint at bert-base-uncased and are newly initialized: ['classifier.bias', 'classifier.weight']\n",
      "You should probably TRAIN this model on a down-stream task to be able to use it for predictions and inference.\n",
      "/opt/anaconda3/lib/python3.12/site-packages/torch/utils/data/dataloader.py:683: UserWarning: 'pin_memory' argument is set as true but not supported on MPS now, then device pinned memory won't be used.\n",
      "  warnings.warn(warn_msg)\n"
     ]
    },
    {
     "data": {
      "text/html": [
       "\n",
       "    <div>\n",
       "      \n",
       "      <progress value='35000' max='35000' style='width:300px; height:20px; vertical-align: middle;'></progress>\n",
       "      [35000/35000 21:35:36, Epoch 5/5]\n",
       "    </div>\n",
       "    <table border=\"1\" class=\"dataframe\">\n",
       "  <thead>\n",
       " <tr style=\"text-align: left;\">\n",
       "      <th>Epoch</th>\n",
       "      <th>Training Loss</th>\n",
       "      <th>Validation Loss</th>\n",
       "      <th>Accuracy</th>\n",
       "      <th>F1</th>\n",
       "      <th>Precision</th>\n",
       "      <th>Recall</th>\n",
       "    </tr>\n",
       "  </thead>\n",
       "  <tbody>\n",
       "    <tr>\n",
       "      <td>1</td>\n",
       "      <td>0.348500</td>\n",
       "      <td>0.372630</td>\n",
       "      <td>0.890074</td>\n",
       "      <td>0.889363</td>\n",
       "      <td>0.890789</td>\n",
       "      <td>0.890074</td>\n",
       "    </tr>\n",
       "    <tr>\n",
       "      <td>2</td>\n",
       "      <td>0.251800</td>\n",
       "      <td>0.310134</td>\n",
       "      <td>0.906576</td>\n",
       "      <td>0.906579</td>\n",
       "      <td>0.906657</td>\n",
       "      <td>0.906576</td>\n",
       "    </tr>\n",
       "    <tr>\n",
       "      <td>3</td>\n",
       "      <td>0.185700</td>\n",
       "      <td>0.362479</td>\n",
       "      <td>0.908409</td>\n",
       "      <td>0.908480</td>\n",
       "      <td>0.909108</td>\n",
       "      <td>0.908409</td>\n",
       "    </tr>\n",
       "    <tr>\n",
       "      <td>4</td>\n",
       "      <td>0.146600</td>\n",
       "      <td>0.398521</td>\n",
       "      <td>0.908992</td>\n",
       "      <td>0.909111</td>\n",
       "      <td>0.909340</td>\n",
       "      <td>0.908992</td>\n",
       "    </tr>\n",
       "    <tr>\n",
       "      <td>5</td>\n",
       "      <td>0.111000</td>\n",
       "      <td>0.488552</td>\n",
       "      <td>0.904575</td>\n",
       "      <td>0.904583</td>\n",
       "      <td>0.904599</td>\n",
       "      <td>0.904575</td>\n",
       "    </tr>\n",
       "  </tbody>\n",
       "</table><p>"
      ],
      "text/plain": [
       "<IPython.core.display.HTML object>"
      ]
     },
     "metadata": {},
     "output_type": "display_data"
    },
    {
     "name": "stderr",
     "output_type": "stream",
     "text": [
      "/opt/anaconda3/lib/python3.12/site-packages/torch/utils/data/dataloader.py:683: UserWarning: 'pin_memory' argument is set as true but not supported on MPS now, then device pinned memory won't be used.\n",
      "  warnings.warn(warn_msg)\n",
      "/opt/anaconda3/lib/python3.12/site-packages/torch/utils/data/dataloader.py:683: UserWarning: 'pin_memory' argument is set as true but not supported on MPS now, then device pinned memory won't be used.\n",
      "  warnings.warn(warn_msg)\n",
      "/opt/anaconda3/lib/python3.12/site-packages/torch/utils/data/dataloader.py:683: UserWarning: 'pin_memory' argument is set as true but not supported on MPS now, then device pinned memory won't be used.\n",
      "  warnings.warn(warn_msg)\n",
      "/opt/anaconda3/lib/python3.12/site-packages/torch/utils/data/dataloader.py:683: UserWarning: 'pin_memory' argument is set as true but not supported on MPS now, then device pinned memory won't be used.\n",
      "  warnings.warn(warn_msg)\n",
      "[I 2025-06-16 15:30:58,763] Trial 0 finished with value: 3.618332360265191 and parameters: {'learning_rate': 1.686639116139086e-05, 'per_device_train_batch_size': 8, 'num_train_epochs': 5, 'weight_decay': 0.0818748379342607}. Best is trial 0 with value: 3.618332360265191.\n",
      "Some weights of BertForSequenceClassification were not initialized from the model checkpoint at bert-base-uncased and are newly initialized: ['classifier.bias', 'classifier.weight']\n",
      "You should probably TRAIN this model on a down-stream task to be able to use it for predictions and inference.\n",
      "/opt/anaconda3/lib/python3.12/site-packages/torch/utils/data/dataloader.py:683: UserWarning: 'pin_memory' argument is set as true but not supported on MPS now, then device pinned memory won't be used.\n",
      "  warnings.warn(warn_msg)\n"
     ]
    },
    {
     "data": {
      "text/html": [
       "\n",
       "    <div>\n",
       "      \n",
       "      <progress value='14000' max='14000' style='width:300px; height:20px; vertical-align: middle;'></progress>\n",
       "      [14000/14000 19:30:50, Epoch 4/4]\n",
       "    </div>\n",
       "    <table border=\"1\" class=\"dataframe\">\n",
       "  <thead>\n",
       " <tr style=\"text-align: left;\">\n",
       "      <th>Epoch</th>\n",
       "      <th>Training Loss</th>\n",
       "      <th>Validation Loss</th>\n",
       "      <th>Accuracy</th>\n",
       "      <th>F1</th>\n",
       "      <th>Precision</th>\n",
       "      <th>Recall</th>\n",
       "    </tr>\n",
       "  </thead>\n",
       "  <tbody>\n",
       "    <tr>\n",
       "      <td>1</td>\n",
       "      <td>0.306800</td>\n",
       "      <td>0.301467</td>\n",
       "      <td>0.896991</td>\n",
       "      <td>0.896953</td>\n",
       "      <td>0.898683</td>\n",
       "      <td>0.896991</td>\n",
       "    </tr>\n",
       "    <tr>\n",
       "      <td>2</td>\n",
       "      <td>0.224900</td>\n",
       "      <td>0.255568</td>\n",
       "      <td>0.909076</td>\n",
       "      <td>0.908965</td>\n",
       "      <td>0.910348</td>\n",
       "      <td>0.909076</td>\n",
       "    </tr>\n",
       "    <tr>\n",
       "      <td>3</td>\n",
       "      <td>0.162000</td>\n",
       "      <td>0.302703</td>\n",
       "      <td>0.908326</td>\n",
       "      <td>0.908261</td>\n",
       "      <td>0.909270</td>\n",
       "      <td>0.908326</td>\n",
       "    </tr>\n",
       "    <tr>\n",
       "      <td>4</td>\n",
       "      <td>0.115500</td>\n",
       "      <td>0.367895</td>\n",
       "      <td>0.906159</td>\n",
       "      <td>0.906042</td>\n",
       "      <td>0.906002</td>\n",
       "      <td>0.906159</td>\n",
       "    </tr>\n",
       "  </tbody>\n",
       "</table><p>"
      ],
      "text/plain": [
       "<IPython.core.display.HTML object>"
      ]
     },
     "metadata": {},
     "output_type": "display_data"
    },
    {
     "name": "stderr",
     "output_type": "stream",
     "text": [
      "/opt/anaconda3/lib/python3.12/site-packages/torch/utils/data/dataloader.py:683: UserWarning: 'pin_memory' argument is set as true but not supported on MPS now, then device pinned memory won't be used.\n",
      "  warnings.warn(warn_msg)\n",
      "/opt/anaconda3/lib/python3.12/site-packages/torch/utils/data/dataloader.py:683: UserWarning: 'pin_memory' argument is set as true but not supported on MPS now, then device pinned memory won't be used.\n",
      "  warnings.warn(warn_msg)\n",
      "/opt/anaconda3/lib/python3.12/site-packages/torch/utils/data/dataloader.py:683: UserWarning: 'pin_memory' argument is set as true but not supported on MPS now, then device pinned memory won't be used.\n",
      "  warnings.warn(warn_msg)\n",
      "[I 2025-06-17 11:01:52,507] Trial 1 finished with value: 3.6243617209201164 and parameters: {'learning_rate': 3.51946186244176e-05, 'per_device_train_batch_size': 16, 'num_train_epochs': 4, 'weight_decay': 0.057174363992246416}. Best is trial 1 with value: 3.6243617209201164.\n",
      "Some weights of BertForSequenceClassification were not initialized from the model checkpoint at bert-base-uncased and are newly initialized: ['classifier.bias', 'classifier.weight']\n",
      "You should probably TRAIN this model on a down-stream task to be able to use it for predictions and inference.\n",
      "/opt/anaconda3/lib/python3.12/site-packages/torch/utils/data/dataloader.py:683: UserWarning: 'pin_memory' argument is set as true but not supported on MPS now, then device pinned memory won't be used.\n",
      "  warnings.warn(warn_msg)\n"
     ]
    },
    {
     "data": {
      "text/html": [
       "\n",
       "    <div>\n",
       "      \n",
       "      <progress value='14000' max='14000' style='width:300px; height:20px; vertical-align: middle;'></progress>\n",
       "      [14000/14000 10:06:10, Epoch 4/4]\n",
       "    </div>\n",
       "    <table border=\"1\" class=\"dataframe\">\n",
       "  <thead>\n",
       " <tr style=\"text-align: left;\">\n",
       "      <th>Epoch</th>\n",
       "      <th>Training Loss</th>\n",
       "      <th>Validation Loss</th>\n",
       "      <th>Accuracy</th>\n",
       "      <th>F1</th>\n",
       "      <th>Precision</th>\n",
       "      <th>Recall</th>\n",
       "    </tr>\n",
       "  </thead>\n",
       "  <tbody>\n",
       "    <tr>\n",
       "      <td>1</td>\n",
       "      <td>0.307000</td>\n",
       "      <td>0.293955</td>\n",
       "      <td>0.900075</td>\n",
       "      <td>0.900240</td>\n",
       "      <td>0.901422</td>\n",
       "      <td>0.900075</td>\n",
       "    </tr>\n",
       "    <tr>\n",
       "      <td>2</td>\n",
       "      <td>0.227900</td>\n",
       "      <td>0.258233</td>\n",
       "      <td>0.907826</td>\n",
       "      <td>0.907747</td>\n",
       "      <td>0.911683</td>\n",
       "      <td>0.907826</td>\n",
       "    </tr>\n",
       "    <tr>\n",
       "      <td>3</td>\n",
       "      <td>0.170400</td>\n",
       "      <td>0.297664</td>\n",
       "      <td>0.910576</td>\n",
       "      <td>0.910488</td>\n",
       "      <td>0.910932</td>\n",
       "      <td>0.910576</td>\n",
       "    </tr>\n",
       "    <tr>\n",
       "      <td>4</td>\n",
       "      <td>0.120500</td>\n",
       "      <td>0.347226</td>\n",
       "      <td>0.906326</td>\n",
       "      <td>0.906159</td>\n",
       "      <td>0.906172</td>\n",
       "      <td>0.906326</td>\n",
       "    </tr>\n",
       "  </tbody>\n",
       "</table><p>"
      ],
      "text/plain": [
       "<IPython.core.display.HTML object>"
      ]
     },
     "metadata": {},
     "output_type": "display_data"
    },
    {
     "name": "stderr",
     "output_type": "stream",
     "text": [
      "/opt/anaconda3/lib/python3.12/site-packages/torch/utils/data/dataloader.py:683: UserWarning: 'pin_memory' argument is set as true but not supported on MPS now, then device pinned memory won't be used.\n",
      "  warnings.warn(warn_msg)\n",
      "/opt/anaconda3/lib/python3.12/site-packages/torch/utils/data/dataloader.py:683: UserWarning: 'pin_memory' argument is set as true but not supported on MPS now, then device pinned memory won't be used.\n",
      "  warnings.warn(warn_msg)\n",
      "/opt/anaconda3/lib/python3.12/site-packages/torch/utils/data/dataloader.py:683: UserWarning: 'pin_memory' argument is set as true but not supported on MPS now, then device pinned memory won't be used.\n",
      "  warnings.warn(warn_msg)\n",
      "[I 2025-06-17 21:08:06,462] Trial 2 finished with value: 3.624981489609748 and parameters: {'learning_rate': 2.7997696516189593e-05, 'per_device_train_batch_size': 16, 'num_train_epochs': 4, 'weight_decay': 0.032881125137832125}. Best is trial 2 with value: 3.624981489609748.\n",
      "Some weights of BertForSequenceClassification were not initialized from the model checkpoint at bert-base-uncased and are newly initialized: ['classifier.bias', 'classifier.weight']\n",
      "You should probably TRAIN this model on a down-stream task to be able to use it for predictions and inference.\n",
      "/opt/anaconda3/lib/python3.12/site-packages/torch/utils/data/dataloader.py:683: UserWarning: 'pin_memory' argument is set as true but not supported on MPS now, then device pinned memory won't be used.\n",
      "  warnings.warn(warn_msg)\n"
     ]
    },
    {
     "data": {
      "text/html": [
       "\n",
       "    <div>\n",
       "      \n",
       "      <progress value='14000' max='14000' style='width:300px; height:20px; vertical-align: middle;'></progress>\n",
       "      [14000/14000 17:52:29, Epoch 4/4]\n",
       "    </div>\n",
       "    <table border=\"1\" class=\"dataframe\">\n",
       "  <thead>\n",
       " <tr style=\"text-align: left;\">\n",
       "      <th>Epoch</th>\n",
       "      <th>Training Loss</th>\n",
       "      <th>Validation Loss</th>\n",
       "      <th>Accuracy</th>\n",
       "      <th>F1</th>\n",
       "      <th>Precision</th>\n",
       "      <th>Recall</th>\n",
       "    </tr>\n",
       "  </thead>\n",
       "  <tbody>\n",
       "    <tr>\n",
       "      <td>1</td>\n",
       "      <td>0.326500</td>\n",
       "      <td>0.315470</td>\n",
       "      <td>0.889407</td>\n",
       "      <td>0.889278</td>\n",
       "      <td>0.890475</td>\n",
       "      <td>0.889407</td>\n",
       "    </tr>\n",
       "    <tr>\n",
       "      <td>2</td>\n",
       "      <td>0.256500</td>\n",
       "      <td>0.278867</td>\n",
       "      <td>0.901575</td>\n",
       "      <td>0.901435</td>\n",
       "      <td>0.902650</td>\n",
       "      <td>0.901575</td>\n",
       "    </tr>\n",
       "    <tr>\n",
       "      <td>3</td>\n",
       "      <td>0.204000</td>\n",
       "      <td>0.299404</td>\n",
       "      <td>0.907159</td>\n",
       "      <td>0.907009</td>\n",
       "      <td>0.908607</td>\n",
       "      <td>0.907159</td>\n",
       "    </tr>\n",
       "    <tr>\n",
       "      <td>4</td>\n",
       "      <td>0.181300</td>\n",
       "      <td>0.320555</td>\n",
       "      <td>0.905659</td>\n",
       "      <td>0.905580</td>\n",
       "      <td>0.905894</td>\n",
       "      <td>0.905659</td>\n",
       "    </tr>\n",
       "  </tbody>\n",
       "</table><p>"
      ],
      "text/plain": [
       "<IPython.core.display.HTML object>"
      ]
     },
     "metadata": {},
     "output_type": "display_data"
    },
    {
     "name": "stderr",
     "output_type": "stream",
     "text": [
      "/opt/anaconda3/lib/python3.12/site-packages/torch/utils/data/dataloader.py:683: UserWarning: 'pin_memory' argument is set as true but not supported on MPS now, then device pinned memory won't be used.\n",
      "  warnings.warn(warn_msg)\n",
      "/opt/anaconda3/lib/python3.12/site-packages/torch/utils/data/dataloader.py:683: UserWarning: 'pin_memory' argument is set as true but not supported on MPS now, then device pinned memory won't be used.\n",
      "  warnings.warn(warn_msg)\n",
      "/opt/anaconda3/lib/python3.12/site-packages/torch/utils/data/dataloader.py:683: UserWarning: 'pin_memory' argument is set as true but not supported on MPS now, then device pinned memory won't be used.\n",
      "  warnings.warn(warn_msg)\n",
      "[I 2025-06-18 15:00:39,206] Trial 3 finished with value: 3.622791619648069 and parameters: {'learning_rate': 1.0617229161826863e-05, 'per_device_train_batch_size': 16, 'num_train_epochs': 4, 'weight_decay': 0.00969681185117426}. Best is trial 2 with value: 3.624981489609748.\n",
      "Some weights of BertForSequenceClassification were not initialized from the model checkpoint at bert-base-uncased and are newly initialized: ['classifier.bias', 'classifier.weight']\n",
      "You should probably TRAIN this model on a down-stream task to be able to use it for predictions and inference.\n",
      "/opt/anaconda3/lib/python3.12/site-packages/torch/utils/data/dataloader.py:683: UserWarning: 'pin_memory' argument is set as true but not supported on MPS now, then device pinned memory won't be used.\n",
      "  warnings.warn(warn_msg)\n"
     ]
    },
    {
     "data": {
      "text/html": [
       "\n",
       "    <div>\n",
       "      \n",
       "      <progress value='21000' max='21000' style='width:300px; height:20px; vertical-align: middle;'></progress>\n",
       "      [21000/21000 17:32:39, Epoch 3/3]\n",
       "    </div>\n",
       "    <table border=\"1\" class=\"dataframe\">\n",
       "  <thead>\n",
       " <tr style=\"text-align: left;\">\n",
       "      <th>Epoch</th>\n",
       "      <th>Training Loss</th>\n",
       "      <th>Validation Loss</th>\n",
       "      <th>Accuracy</th>\n",
       "      <th>F1</th>\n",
       "      <th>Precision</th>\n",
       "      <th>Recall</th>\n",
       "    </tr>\n",
       "  </thead>\n",
       "  <tbody>\n",
       "    <tr>\n",
       "      <td>1</td>\n",
       "      <td>0.343500</td>\n",
       "      <td>0.347149</td>\n",
       "      <td>0.892241</td>\n",
       "      <td>0.891789</td>\n",
       "      <td>0.892368</td>\n",
       "      <td>0.892241</td>\n",
       "    </tr>\n",
       "    <tr>\n",
       "      <td>2</td>\n",
       "      <td>0.262000</td>\n",
       "      <td>0.317222</td>\n",
       "      <td>0.904075</td>\n",
       "      <td>0.904040</td>\n",
       "      <td>0.904349</td>\n",
       "      <td>0.904075</td>\n",
       "    </tr>\n",
       "    <tr>\n",
       "      <td>3</td>\n",
       "      <td>0.175100</td>\n",
       "      <td>0.355194</td>\n",
       "      <td>0.905409</td>\n",
       "      <td>0.905470</td>\n",
       "      <td>0.905806</td>\n",
       "      <td>0.905409</td>\n",
       "    </tr>\n",
       "  </tbody>\n",
       "</table><p>"
      ],
      "text/plain": [
       "<IPython.core.display.HTML object>"
      ]
     },
     "metadata": {},
     "output_type": "display_data"
    },
    {
     "name": "stderr",
     "output_type": "stream",
     "text": [
      "/opt/anaconda3/lib/python3.12/site-packages/torch/utils/data/dataloader.py:683: UserWarning: 'pin_memory' argument is set as true but not supported on MPS now, then device pinned memory won't be used.\n",
      "  warnings.warn(warn_msg)\n",
      "/opt/anaconda3/lib/python3.12/site-packages/torch/utils/data/dataloader.py:683: UserWarning: 'pin_memory' argument is set as true but not supported on MPS now, then device pinned memory won't be used.\n",
      "  warnings.warn(warn_msg)\n",
      "[I 2025-06-19 08:33:20,979] Trial 4 finished with value: 3.6220937572553797 and parameters: {'learning_rate': 1.3036264173236746e-05, 'per_device_train_batch_size': 8, 'num_train_epochs': 3, 'weight_decay': 0.04808531546486168}. Best is trial 2 with value: 3.624981489609748.\n",
      "Some weights of BertForSequenceClassification were not initialized from the model checkpoint at bert-base-uncased and are newly initialized: ['classifier.bias', 'classifier.weight']\n",
      "You should probably TRAIN this model on a down-stream task to be able to use it for predictions and inference.\n",
      "/opt/anaconda3/lib/python3.12/site-packages/torch/utils/data/dataloader.py:683: UserWarning: 'pin_memory' argument is set as true but not supported on MPS now, then device pinned memory won't be used.\n",
      "  warnings.warn(warn_msg)\n"
     ]
    },
    {
     "data": {
      "text/html": [
       "\n",
       "    <div>\n",
       "      \n",
       "      <progress value='7000' max='35000' style='width:300px; height:20px; vertical-align: middle;'></progress>\n",
       "      [ 7000/35000 3:15:19 < 13:01:30, 0.60 it/s, Epoch 1/5]\n",
       "    </div>\n",
       "    <table border=\"1\" class=\"dataframe\">\n",
       "  <thead>\n",
       " <tr style=\"text-align: left;\">\n",
       "      <th>Epoch</th>\n",
       "      <th>Training Loss</th>\n",
       "      <th>Validation Loss</th>\n",
       "      <th>Accuracy</th>\n",
       "      <th>F1</th>\n",
       "      <th>Precision</th>\n",
       "      <th>Recall</th>\n",
       "    </tr>\n",
       "  </thead>\n",
       "  <tbody>\n",
       "    <tr>\n",
       "      <td>1</td>\n",
       "      <td>0.346700</td>\n",
       "      <td>0.362077</td>\n",
       "      <td>0.891658</td>\n",
       "      <td>0.890992</td>\n",
       "      <td>0.892427</td>\n",
       "      <td>0.891658</td>\n",
       "    </tr>\n",
       "  </tbody>\n",
       "</table><p>"
      ],
      "text/plain": [
       "<IPython.core.display.HTML object>"
      ]
     },
     "metadata": {},
     "output_type": "display_data"
    },
    {
     "name": "stderr",
     "output_type": "stream",
     "text": [
      "[I 2025-06-19 11:49:01,743] Trial 5 pruned. \n",
      "Some weights of BertForSequenceClassification were not initialized from the model checkpoint at bert-base-uncased and are newly initialized: ['classifier.bias', 'classifier.weight']\n",
      "You should probably TRAIN this model on a down-stream task to be able to use it for predictions and inference.\n",
      "/opt/anaconda3/lib/python3.12/site-packages/torch/utils/data/dataloader.py:683: UserWarning: 'pin_memory' argument is set as true but not supported on MPS now, then device pinned memory won't be used.\n",
      "  warnings.warn(warn_msg)\n"
     ]
    },
    {
     "data": {
      "text/html": [
       "\n",
       "    <div>\n",
       "      \n",
       "      <progress value='3500' max='14000' style='width:300px; height:20px; vertical-align: middle;'></progress>\n",
       "      [ 3500/14000 3:22:28 < 10:07:46, 0.29 it/s, Epoch 1/4]\n",
       "    </div>\n",
       "    <table border=\"1\" class=\"dataframe\">\n",
       "  <thead>\n",
       " <tr style=\"text-align: left;\">\n",
       "      <th>Epoch</th>\n",
       "      <th>Training Loss</th>\n",
       "      <th>Validation Loss</th>\n",
       "      <th>Accuracy</th>\n",
       "      <th>F1</th>\n",
       "      <th>Precision</th>\n",
       "      <th>Recall</th>\n",
       "    </tr>\n",
       "  </thead>\n",
       "  <tbody>\n",
       "    <tr>\n",
       "      <td>1</td>\n",
       "      <td>0.317400</td>\n",
       "      <td>0.306379</td>\n",
       "      <td>0.893908</td>\n",
       "      <td>0.893860</td>\n",
       "      <td>0.894877</td>\n",
       "      <td>0.893908</td>\n",
       "    </tr>\n",
       "  </tbody>\n",
       "</table><p>"
      ],
      "text/plain": [
       "<IPython.core.display.HTML object>"
      ]
     },
     "metadata": {},
     "output_type": "display_data"
    },
    {
     "name": "stderr",
     "output_type": "stream",
     "text": [
      "[I 2025-06-19 15:11:34,408] Trial 6 pruned. \n",
      "Some weights of BertForSequenceClassification were not initialized from the model checkpoint at bert-base-uncased and are newly initialized: ['classifier.bias', 'classifier.weight']\n",
      "You should probably TRAIN this model on a down-stream task to be able to use it for predictions and inference.\n",
      "/opt/anaconda3/lib/python3.12/site-packages/torch/utils/data/dataloader.py:683: UserWarning: 'pin_memory' argument is set as true but not supported on MPS now, then device pinned memory won't be used.\n",
      "  warnings.warn(warn_msg)\n"
     ]
    },
    {
     "data": {
      "text/html": [
       "\n",
       "    <div>\n",
       "      \n",
       "      <progress value='3500' max='10500' style='width:300px; height:20px; vertical-align: middle;'></progress>\n",
       "      [ 3500/10500 2:04:07 < 4:08:23, 0.47 it/s, Epoch 1/3]\n",
       "    </div>\n",
       "    <table border=\"1\" class=\"dataframe\">\n",
       "  <thead>\n",
       " <tr style=\"text-align: left;\">\n",
       "      <th>Epoch</th>\n",
       "      <th>Training Loss</th>\n",
       "      <th>Validation Loss</th>\n",
       "      <th>Accuracy</th>\n",
       "      <th>F1</th>\n",
       "      <th>Precision</th>\n",
       "      <th>Recall</th>\n",
       "    </tr>\n",
       "  </thead>\n",
       "  <tbody>\n",
       "    <tr>\n",
       "      <td>1</td>\n",
       "      <td>0.314200</td>\n",
       "      <td>0.303448</td>\n",
       "      <td>0.893574</td>\n",
       "      <td>0.893532</td>\n",
       "      <td>0.893942</td>\n",
       "      <td>0.893574</td>\n",
       "    </tr>\n",
       "  </tbody>\n",
       "</table><p>"
      ],
      "text/plain": [
       "<IPython.core.display.HTML object>"
      ]
     },
     "metadata": {},
     "output_type": "display_data"
    },
    {
     "name": "stderr",
     "output_type": "stream",
     "text": [
      "[I 2025-06-19 17:15:44,993] Trial 7 pruned. \n",
      "Some weights of BertForSequenceClassification were not initialized from the model checkpoint at bert-base-uncased and are newly initialized: ['classifier.bias', 'classifier.weight']\n",
      "You should probably TRAIN this model on a down-stream task to be able to use it for predictions and inference.\n",
      "/opt/anaconda3/lib/python3.12/site-packages/torch/utils/data/dataloader.py:683: UserWarning: 'pin_memory' argument is set as true but not supported on MPS now, then device pinned memory won't be used.\n",
      "  warnings.warn(warn_msg)\n"
     ]
    },
    {
     "data": {
      "text/html": [
       "\n",
       "    <div>\n",
       "      \n",
       "      <progress value='14000' max='14000' style='width:300px; height:20px; vertical-align: middle;'></progress>\n",
       "      [14000/14000 20:04:55, Epoch 4/4]\n",
       "    </div>\n",
       "    <table border=\"1\" class=\"dataframe\">\n",
       "  <thead>\n",
       " <tr style=\"text-align: left;\">\n",
       "      <th>Epoch</th>\n",
       "      <th>Training Loss</th>\n",
       "      <th>Validation Loss</th>\n",
       "      <th>Accuracy</th>\n",
       "      <th>F1</th>\n",
       "      <th>Precision</th>\n",
       "      <th>Recall</th>\n",
       "    </tr>\n",
       "  </thead>\n",
       "  <tbody>\n",
       "    <tr>\n",
       "      <td>1</td>\n",
       "      <td>0.300900</td>\n",
       "      <td>0.323606</td>\n",
       "      <td>0.899742</td>\n",
       "      <td>0.899847</td>\n",
       "      <td>0.901158</td>\n",
       "      <td>0.899742</td>\n",
       "    </tr>\n",
       "    <tr>\n",
       "      <td>2</td>\n",
       "      <td>0.225700</td>\n",
       "      <td>0.258960</td>\n",
       "      <td>0.908909</td>\n",
       "      <td>0.908914</td>\n",
       "      <td>0.911356</td>\n",
       "      <td>0.908909</td>\n",
       "    </tr>\n",
       "    <tr>\n",
       "      <td>3</td>\n",
       "      <td>0.166200</td>\n",
       "      <td>0.300382</td>\n",
       "      <td>0.909826</td>\n",
       "      <td>0.909739</td>\n",
       "      <td>0.910449</td>\n",
       "      <td>0.909826</td>\n",
       "    </tr>\n",
       "    <tr>\n",
       "      <td>4</td>\n",
       "      <td>0.122100</td>\n",
       "      <td>0.354085</td>\n",
       "      <td>0.907076</td>\n",
       "      <td>0.906867</td>\n",
       "      <td>0.906937</td>\n",
       "      <td>0.907076</td>\n",
       "    </tr>\n",
       "  </tbody>\n",
       "</table><p>"
      ],
      "text/plain": [
       "<IPython.core.display.HTML object>"
      ]
     },
     "metadata": {},
     "output_type": "display_data"
    },
    {
     "name": "stderr",
     "output_type": "stream",
     "text": [
      "/opt/anaconda3/lib/python3.12/site-packages/torch/utils/data/dataloader.py:683: UserWarning: 'pin_memory' argument is set as true but not supported on MPS now, then device pinned memory won't be used.\n",
      "  warnings.warn(warn_msg)\n",
      "/opt/anaconda3/lib/python3.12/site-packages/torch/utils/data/dataloader.py:683: UserWarning: 'pin_memory' argument is set as true but not supported on MPS now, then device pinned memory won't be used.\n",
      "  warnings.warn(warn_msg)\n",
      "/opt/anaconda3/lib/python3.12/site-packages/torch/utils/data/dataloader.py:683: UserWarning: 'pin_memory' argument is set as true but not supported on MPS now, then device pinned memory won't be used.\n",
      "  warnings.warn(warn_msg)\n",
      "[I 2025-06-20 13:20:44,042] Trial 8 finished with value: 3.627955047235228 and parameters: {'learning_rate': 3.3499209710417054e-05, 'per_device_train_batch_size': 16, 'num_train_epochs': 4, 'weight_decay': 0.015713050589290022}. Best is trial 8 with value: 3.627955047235228.\n",
      "Some weights of BertForSequenceClassification were not initialized from the model checkpoint at bert-base-uncased and are newly initialized: ['classifier.bias', 'classifier.weight']\n",
      "You should probably TRAIN this model on a down-stream task to be able to use it for predictions and inference.\n",
      "/opt/anaconda3/lib/python3.12/site-packages/torch/utils/data/dataloader.py:683: UserWarning: 'pin_memory' argument is set as true but not supported on MPS now, then device pinned memory won't be used.\n",
      "  warnings.warn(warn_msg)\n"
     ]
    },
    {
     "data": {
      "text/html": [
       "\n",
       "    <div>\n",
       "      \n",
       "      <progress value='10500' max='14000' style='width:300px; height:20px; vertical-align: middle;'></progress>\n",
       "      [10500/14000 16:22:08 < 5:27:26, 0.18 it/s, Epoch 3/4]\n",
       "    </div>\n",
       "    <table border=\"1\" class=\"dataframe\">\n",
       "  <thead>\n",
       " <tr style=\"text-align: left;\">\n",
       "      <th>Epoch</th>\n",
       "      <th>Training Loss</th>\n",
       "      <th>Validation Loss</th>\n",
       "      <th>Accuracy</th>\n",
       "      <th>F1</th>\n",
       "      <th>Precision</th>\n",
       "      <th>Recall</th>\n",
       "    </tr>\n",
       "  </thead>\n",
       "  <tbody>\n",
       "    <tr>\n",
       "      <td>1</td>\n",
       "      <td>0.308000</td>\n",
       "      <td>0.327326</td>\n",
       "      <td>0.900408</td>\n",
       "      <td>0.900398</td>\n",
       "      <td>0.902300</td>\n",
       "      <td>0.900408</td>\n",
       "    </tr>\n",
       "    <tr>\n",
       "      <td>2</td>\n",
       "      <td>0.227400</td>\n",
       "      <td>0.287066</td>\n",
       "      <td>0.906242</td>\n",
       "      <td>0.906109</td>\n",
       "      <td>0.908519</td>\n",
       "      <td>0.906242</td>\n",
       "    </tr>\n",
       "    <tr>\n",
       "      <td>3</td>\n",
       "      <td>0.171800</td>\n",
       "      <td>0.315000</td>\n",
       "      <td>0.907409</td>\n",
       "      <td>0.907175</td>\n",
       "      <td>0.908560</td>\n",
       "      <td>0.907409</td>\n",
       "    </tr>\n",
       "  </tbody>\n",
       "</table><p>"
      ],
      "text/plain": [
       "<IPython.core.display.HTML object>"
      ]
     },
     "metadata": {},
     "output_type": "display_data"
    },
    {
     "name": "stderr",
     "output_type": "stream",
     "text": [
      "/opt/anaconda3/lib/python3.12/site-packages/torch/utils/data/dataloader.py:683: UserWarning: 'pin_memory' argument is set as true but not supported on MPS now, then device pinned memory won't be used.\n",
      "  warnings.warn(warn_msg)\n",
      "/opt/anaconda3/lib/python3.12/site-packages/torch/utils/data/dataloader.py:683: UserWarning: 'pin_memory' argument is set as true but not supported on MPS now, then device pinned memory won't be used.\n",
      "  warnings.warn(warn_msg)\n",
      "[I 2025-06-21 05:42:54,581] Trial 9 pruned. \n"
     ]
    },
    {
     "name": "stdout",
     "output_type": "stream",
     "text": [
      "✅ Best Hyperparameters Found:\n",
      "{'learning_rate': 3.3499209710417054e-05, 'per_device_train_batch_size': 16, 'num_train_epochs': 4, 'weight_decay': 0.015713050589290022}\n"
     ]
    }
   ],
   "source": [
    "# 7. Optuna Hyperparameter Search\n",
    "import optuna\n",
    "\n",
    "def model_hp_space(trial):\n",
    "    return {\n",
    "        \"learning_rate\": trial.suggest_float(\"learning_rate\", 1e-5, 5e-5, log=True),\n",
    "        \"per_device_train_batch_size\": trial.suggest_categorical(\"per_device_train_batch_size\", [8, 16]),\n",
    "        \"num_train_epochs\": trial.suggest_int(\"num_train_epochs\", 3, 5),\n",
    "        \"weight_decay\": trial.suggest_float(\"weight_decay\", 0.0, 0.1),\n",
    "    }\n",
    "\n",
    "trainer = Trainer(\n",
    "    model_init=model_init,\n",
    "    args=base_training_args,\n",
    "    train_dataset=train_ds,\n",
    "    eval_dataset=val_ds,\n",
    "    tokenizer=tokenizer,\n",
    "    data_collator=data_collator,\n",
    "    compute_metrics=compute_metrics,\n",
    "    callbacks=[EarlyStoppingCallback(early_stopping_patience=2)]\n",
    ")\n",
    "\n",
    "best_run = trainer.hyperparameter_search(\n",
    "    direction=\"maximize\",\n",
    "    hp_space=model_hp_space,\n",
    "    n_trials=10,\n",
    "    backend=\"optuna\"\n",
    ")\n",
    "\n",
    "print(\"✅ Best Hyperparameters Found:\")\n",
    "print(best_run.hyperparameters)\n",
    "\n",
    "# Save best hyperparameters\n",
    "import json\n",
    "with open(\"best_hyperparameters.json\", \"w\") as f:\n",
    "    json.dump(best_run.hyperparameters, f, indent=2)"
   ]
  },
  {
   "cell_type": "code",
   "execution_count": 29,
   "id": "90b5eb55-6fd5-4b34-8620-5f3bb56874cb",
   "metadata": {},
   "outputs": [],
   "source": [
    "# time to fine-tune the model on the best identified parameters \n",
    "from datasets import concatenate_datasets\n",
    "\n",
    "final_train_ds = concatenate_datasets([train_ds, val_ds])"
   ]
  },
  {
   "cell_type": "code",
   "execution_count": 33,
   "id": "e40d30e6-b8d9-422d-afa9-5badd848df85",
   "metadata": {},
   "outputs": [],
   "source": [
    "from transformers import TrainingArguments\n",
    "\n",
    "final_training_args = TrainingArguments(\n",
    "    output_dir=\"./final_bert_model\",\n",
    "    per_device_train_batch_size=16,\n",
    "    learning_rate=3.3499209710417054e-05,\n",
    "    num_train_epochs=4,\n",
    "    weight_decay=0.015713050589290022,\n",
    "    eval_strategy=\"epoch\",\n",
    "    save_strategy=\"epoch\",\n",
    "    load_best_model_at_end=True,\n",
    "    metric_for_best_model=\"f1\",\n",
    "    greater_is_better=True,\n",
    "    logging_dir=\"./final_logs\",\n",
    "    report_to=\"none\",\n",
    "    seed=42\n",
    ")"
   ]
  },
  {
   "cell_type": "code",
   "execution_count": 35,
   "id": "e0ac9a46-1ebf-43d8-bc51-7968cf249e98",
   "metadata": {},
   "outputs": [
    {
     "name": "stderr",
     "output_type": "stream",
     "text": [
      "/var/folders/l9/8hmxymj146lc9m7tzd_r6lbm0000gn/T/ipykernel_57053/357119099.py:1: FutureWarning: `tokenizer` is deprecated and will be removed in version 5.0.0 for `Trainer.__init__`. Use `processing_class` instead.\n",
      "  final_trainer = Trainer(\n",
      "Some weights of BertForSequenceClassification were not initialized from the model checkpoint at bert-base-uncased and are newly initialized: ['classifier.bias', 'classifier.weight']\n",
      "You should probably TRAIN this model on a down-stream task to be able to use it for predictions and inference.\n",
      "Some weights of BertForSequenceClassification were not initialized from the model checkpoint at bert-base-uncased and are newly initialized: ['classifier.bias', 'classifier.weight']\n",
      "You should probably TRAIN this model on a down-stream task to be able to use it for predictions and inference.\n",
      "/opt/anaconda3/lib/python3.12/site-packages/torch/utils/data/dataloader.py:683: UserWarning: 'pin_memory' argument is set as true but not supported on MPS now, then device pinned memory won't be used.\n",
      "  warnings.warn(warn_msg)\n"
     ]
    },
    {
     "data": {
      "text/html": [
       "\n",
       "    <div>\n",
       "      \n",
       "      <progress value='17000' max='17000' style='width:300px; height:20px; vertical-align: middle;'></progress>\n",
       "      [17000/17000 22:52:03, Epoch 4/4]\n",
       "    </div>\n",
       "    <table border=\"1\" class=\"dataframe\">\n",
       "  <thead>\n",
       " <tr style=\"text-align: left;\">\n",
       "      <th>Epoch</th>\n",
       "      <th>Training Loss</th>\n",
       "      <th>Validation Loss</th>\n",
       "      <th>Accuracy</th>\n",
       "      <th>F1</th>\n",
       "      <th>Precision</th>\n",
       "      <th>Recall</th>\n",
       "    </tr>\n",
       "  </thead>\n",
       "  <tbody>\n",
       "    <tr>\n",
       "      <td>1</td>\n",
       "      <td>0.300500</td>\n",
       "      <td>0.273366</td>\n",
       "      <td>0.901408</td>\n",
       "      <td>0.901636</td>\n",
       "      <td>0.904518</td>\n",
       "      <td>0.901408</td>\n",
       "    </tr>\n",
       "    <tr>\n",
       "      <td>2</td>\n",
       "      <td>0.215100</td>\n",
       "      <td>0.263076</td>\n",
       "      <td>0.904992</td>\n",
       "      <td>0.905055</td>\n",
       "      <td>0.906120</td>\n",
       "      <td>0.904992</td>\n",
       "    </tr>\n",
       "    <tr>\n",
       "      <td>3</td>\n",
       "      <td>0.172100</td>\n",
       "      <td>0.293011</td>\n",
       "      <td>0.909076</td>\n",
       "      <td>0.909470</td>\n",
       "      <td>0.910766</td>\n",
       "      <td>0.909076</td>\n",
       "    </tr>\n",
       "    <tr>\n",
       "      <td>4</td>\n",
       "      <td>0.105500</td>\n",
       "      <td>0.352787</td>\n",
       "      <td>0.911243</td>\n",
       "      <td>0.911221</td>\n",
       "      <td>0.911210</td>\n",
       "      <td>0.911243</td>\n",
       "    </tr>\n",
       "  </tbody>\n",
       "</table><p>"
      ],
      "text/plain": [
       "<IPython.core.display.HTML object>"
      ]
     },
     "metadata": {},
     "output_type": "display_data"
    },
    {
     "name": "stderr",
     "output_type": "stream",
     "text": [
      "/opt/anaconda3/lib/python3.12/site-packages/torch/utils/data/dataloader.py:683: UserWarning: 'pin_memory' argument is set as true but not supported on MPS now, then device pinned memory won't be used.\n",
      "  warnings.warn(warn_msg)\n",
      "/opt/anaconda3/lib/python3.12/site-packages/torch/utils/data/dataloader.py:683: UserWarning: 'pin_memory' argument is set as true but not supported on MPS now, then device pinned memory won't be used.\n",
      "  warnings.warn(warn_msg)\n",
      "/opt/anaconda3/lib/python3.12/site-packages/torch/utils/data/dataloader.py:683: UserWarning: 'pin_memory' argument is set as true but not supported on MPS now, then device pinned memory won't be used.\n",
      "  warnings.warn(warn_msg)\n"
     ]
    }
   ],
   "source": [
    "final_trainer = Trainer(\n",
    "    model_init=model_init,\n",
    "    args=final_training_args,\n",
    "    train_dataset=final_train_ds,\n",
    "    eval_dataset=test_ds,\n",
    "    tokenizer=tokenizer,\n",
    "    data_collator=data_collator,\n",
    "    compute_metrics=compute_metrics\n",
    ")\n",
    "\n",
    "final_trainer.train()\n",
    "final_trainer.save_model(\"./final_bert_model\")"
   ]
  },
  {
   "cell_type": "code",
   "execution_count": 6,
   "id": "2a47d24a-e238-439f-842b-20ece8d08cc2",
   "metadata": {},
   "outputs": [],
   "source": [
    "import os\n",
    "import pandas as pd\n",
    "import numpy as np\n",
    "from datasets import Dataset\n",
    "from sklearn.model_selection import train_test_split\n",
    "from transformers import BertTokenizer, BertForSequenceClassification, Trainer, TrainingArguments, DataCollatorWithPadding\n",
    "from sklearn.metrics import classification_report, confusion_matrix\n",
    "import seaborn as sns\n",
    "import matplotlib.pyplot as plt"
   ]
  },
  {
   "cell_type": "code",
   "execution_count": 8,
   "id": "28b525dc-614d-4931-ba00-82c46db32b2d",
   "metadata": {},
   "outputs": [],
   "source": [
    "# Set working directory\n",
    "os.chdir(\"/Users/talhaahmed/Desktop/Thesis/Thesis Data\")\n",
    "\n",
    "# Load and preprocess\n",
    "df = pd.read_csv(\"vader_labeled_comments_full.csv\")\n",
    "df = df.dropna(subset=['comment', 'vader_sentiment'])\n",
    "df['label'] = df['vader_sentiment'].map({'negative': 0, 'neutral': 1, 'positive': 2}).astype(int)\n",
    "\n",
    "# Redo split (same seed = same split)\n",
    "_, temp_df = train_test_split(df, test_size=0.3, random_state=42, stratify=df['label'])\n",
    "_, test_df = train_test_split(temp_df, test_size=0.5, random_state=42, stratify=temp_df['label'])\n",
    "\n",
    "test_ds = Dataset.from_pandas(test_df.reset_index(drop=True))"
   ]
  },
  {
   "cell_type": "code",
   "execution_count": 10,
   "id": "997bd813-1981-4fbf-bc37-6e9272a14215",
   "metadata": {},
   "outputs": [],
   "source": [
    "model_path = \"./final_bert_model\"\n",
    "\n",
    "tokenizer = BertTokenizer.from_pretrained(model_path)\n",
    "model = BertForSequenceClassification.from_pretrained(model_path)"
   ]
  },
  {
   "cell_type": "code",
   "execution_count": 12,
   "id": "203f5e3a-e72f-4dd0-8462-faa349ad84e7",
   "metadata": {},
   "outputs": [
    {
     "data": {
      "application/vnd.jupyter.widget-view+json": {
       "model_id": "6ce5e9d942144b6ba7dcbc0409538828",
       "version_major": 2,
       "version_minor": 0
      },
      "text/plain": [
       "Map:   0%|          | 0/11999 [00:00<?, ? examples/s]"
      ]
     },
     "metadata": {},
     "output_type": "display_data"
    }
   ],
   "source": [
    "def tokenize(example):\n",
    "    tokens = tokenizer(example['comment'], truncation=True, padding=\"max_length\", max_length=256)\n",
    "    tokens['label'] = int(example['label'])\n",
    "    return tokens\n",
    "\n",
    "test_ds = test_ds.map(tokenize)\n",
    "test_ds.set_format(type=\"torch\", columns=[\"input_ids\", \"attention_mask\", \"label\"])"
   ]
  },
  {
   "cell_type": "code",
   "execution_count": 14,
   "id": "1bb26e20-cb2a-4631-ba44-338b34440e1f",
   "metadata": {},
   "outputs": [
    {
     "name": "stderr",
     "output_type": "stream",
     "text": [
      "/var/folders/l9/8hmxymj146lc9m7tzd_r6lbm0000gn/T/ipykernel_15060/2845138053.py:9: FutureWarning: `tokenizer` is deprecated and will be removed in version 5.0.0 for `Trainer.__init__`. Use `processing_class` instead.\n",
      "  final_trainer = Trainer(\n"
     ]
    }
   ],
   "source": [
    "training_args = TrainingArguments(\n",
    "    output_dir=\"./final_bert_model\",\n",
    "    per_device_eval_batch_size=16,\n",
    "    report_to=\"none\"\n",
    ")\n",
    "\n",
    "data_collator = DataCollatorWithPadding(tokenizer=tokenizer)\n",
    "\n",
    "final_trainer = Trainer(\n",
    "    model=model,\n",
    "    args=training_args,\n",
    "    tokenizer=tokenizer,\n",
    "    data_collator=data_collator\n",
    ")"
   ]
  },
  {
   "cell_type": "code",
   "execution_count": 16,
   "id": "42cbf237-7d95-4eaf-89ac-41fd2f5c4bcf",
   "metadata": {},
   "outputs": [
    {
     "name": "stderr",
     "output_type": "stream",
     "text": [
      "/opt/anaconda3/lib/python3.12/site-packages/torch/utils/data/dataloader.py:683: UserWarning: 'pin_memory' argument is set as true but not supported on MPS now, then device pinned memory won't be used.\n",
      "  warnings.warn(warn_msg)\n"
     ]
    },
    {
     "data": {
      "text/html": [],
      "text/plain": [
       "<IPython.core.display.HTML object>"
      ]
     },
     "metadata": {},
     "output_type": "display_data"
    },
    {
     "name": "stdout",
     "output_type": "stream",
     "text": [
      "📊 Classification Report:\n",
      "              precision    recall  f1-score   support\n",
      "\n",
      "    negative     0.8851    0.8825    0.8838      3003\n",
      "     neutral     0.9178    0.9126    0.9152      3525\n",
      "    positive     0.9213    0.9262    0.9237      5471\n",
      "\n",
      "    accuracy                         0.9112     11999\n",
      "   macro avg     0.9081    0.9071    0.9076     11999\n",
      "weighted avg     0.9112    0.9112    0.9112     11999\n",
      "\n"
     ]
    },
    {
     "data": {
      "image/png": "[encoded data removed]",
      "text/plain": [
       "<Figure size 640x480 with 2 Axes>"
      ]
     },
     "metadata": {},
     "output_type": "display_data"
    }
   ],
   "source": [
    "# Predict\n",
    "predictions_output = final_trainer.predict(test_ds)\n",
    "y_true = predictions_output.label_ids\n",
    "y_pred = np.argmax(predictions_output.predictions, axis=1)\n",
    "\n",
    "# Classification Report\n",
    "print(\"📊 Classification Report:\")\n",
    "print(classification_report(y_true, y_pred, target_names=[\"negative\", \"neutral\", \"positive\"], digits=4))\n",
    "\n",
    "# Confusion Matrix\n",
    "cm = confusion_matrix(y_true, y_pred)\n",
    "sns.heatmap(cm, annot=True, fmt=\"d\", cmap=\"Blues\", xticklabels=[\"negative\", \"neutral\", \"positive\"], yticklabels=[\"negative\", \"neutral\", \"positive\"])\n",
    "plt.xlabel(\"Predicted\")\n",
    "plt.ylabel(\"True\")\n",
    "plt.title(\"Confusion Matrix\")\n",
    "plt.show()"
   ]
  },
  {
   "cell_type": "code",
   "execution_count": 18,
   "id": "5a8088e7-1024-4612-800d-f014e0541f2b",
   "metadata": {},
   "outputs": [],
   "source": [
    "##### checking the fine-tuned model's performance on a sample of 30 comments \n",
    "# Load full labeled dataset (if not already loaded)\n",
    "df = pd.read_csv(\"vader_labeled_comments_full.csv\")\n",
    "df = df.dropna(subset=['comment', 'vader_sentiment'])\n",
    "\n",
    "# Sample 30 comments for comparison\n",
    "sample_df = df.sample(30, random_state=42).reset_index(drop=True)\n",
    "\n",
    "# Optional: Map VADER label to integer for later comparison\n",
    "label_map = {'negative': 0, 'neutral': 1, 'positive': 2}\n",
    "id2label = {v: k for k, v in label_map.items()}\n",
    "sample_df['label'] = sample_df['vader_sentiment'].map(label_map)"
   ]
  },
  {
   "cell_type": "code",
   "execution_count": 22,
   "id": "ff23bd92-04e8-4108-b18b-414ff74c580d",
   "metadata": {},
   "outputs": [
    {
     "data": {
      "text/html": [
       "<div>\n",
       "<style scoped>\n",
       "    .dataframe tbody tr th:only-of-type {\n",
       "        vertical-align: middle;\n",
       "    }\n",
       "\n",
       "    .dataframe tbody tr th {\n",
       "        vertical-align: top;\n",
       "    }\n",
       "\n",
       "    .dataframe thead th {\n",
       "        text-align: right;\n",
       "    }\n",
       "</style>\n",
       "<table border=\"1\" class=\"dataframe\">\n",
       "  <thead>\n",
       "    <tr style=\"text-align: right;\">\n",
       "      <th></th>\n",
       "      <th>Unnamed: 0</th>\n",
       "      <th>title</th>\n",
       "      <th>comment_date</th>\n",
       "      <th>author</th>\n",
       "      <th>comment</th>\n",
       "      <th>likes</th>\n",
       "      <th>video_id</th>\n",
       "      <th>release_date</th>\n",
       "      <th>neg</th>\n",
       "      <th>neu</th>\n",
       "      <th>pos</th>\n",
       "      <th>compound</th>\n",
       "      <th>vader_sentiment</th>\n",
       "      <th>label</th>\n",
       "    </tr>\n",
       "  </thead>\n",
       "  <tbody>\n",
       "    <tr>\n",
       "      <th>0</th>\n",
       "      <td>1430112</td>\n",
       "      <td>Black Adam</td>\n",
       "      <td>2022-06-08</td>\n",
       "      <td>@levixenos8711</td>\n",
       "      <td>Marvel kids who had no idea about it crying in...</td>\n",
       "      <td>0</td>\n",
       "      <td>X0tOpBuYasI</td>\n",
       "      <td>2022-10-20</td>\n",
       "      <td>0.375</td>\n",
       "      <td>0.463</td>\n",
       "      <td>0.162</td>\n",
       "      <td>-0.5673</td>\n",
       "      <td>negative</td>\n",
       "      <td>0</td>\n",
       "    </tr>\n",
       "    <tr>\n",
       "      <th>1</th>\n",
       "      <td>1495254</td>\n",
       "      <td>Cocaine Bear</td>\n",
       "      <td>2022-12-02</td>\n",
       "      <td>@keegandecker4080</td>\n",
       "      <td>IRL the bear died almost immediately of an OD</td>\n",
       "      <td>0</td>\n",
       "      <td>DuWEEKeJLMI</td>\n",
       "      <td>2023-02-23</td>\n",
       "      <td>0.310</td>\n",
       "      <td>0.690</td>\n",
       "      <td>0.000</td>\n",
       "      <td>-0.5574</td>\n",
       "      <td>negative</td>\n",
       "      <td>0</td>\n",
       "    </tr>\n",
       "    <tr>\n",
       "      <th>2</th>\n",
       "      <td>1363019</td>\n",
       "      <td>Elvis</td>\n",
       "      <td>2022-03-22</td>\n",
       "      <td>@TonyDanza4Lyfe</td>\n",
       "      <td>I thought this dude was extremely miscast as t...</td>\n",
       "      <td>0</td>\n",
       "      <td>wBDLRvjHVOY</td>\n",
       "      <td>2022-06-23</td>\n",
       "      <td>0.000</td>\n",
       "      <td>0.784</td>\n",
       "      <td>0.216</td>\n",
       "      <td>0.5927</td>\n",
       "      <td>positive</td>\n",
       "      <td>2</td>\n",
       "    </tr>\n",
       "    <tr>\n",
       "      <th>3</th>\n",
       "      <td>695841</td>\n",
       "      <td>New Mutants, The</td>\n",
       "      <td>2020-01-11</td>\n",
       "      <td>@samuelfrancis1816</td>\n",
       "      <td>This mutant genes fault is the celestials, the...</td>\n",
       "      <td>1</td>\n",
       "      <td>W_vJhUAOFpI</td>\n",
       "      <td>2020-08-26</td>\n",
       "      <td>0.172</td>\n",
       "      <td>0.828</td>\n",
       "      <td>0.000</td>\n",
       "      <td>-0.4019</td>\n",
       "      <td>negative</td>\n",
       "      <td>0</td>\n",
       "    </tr>\n",
       "    <tr>\n",
       "      <th>4</th>\n",
       "      <td>495194</td>\n",
       "      <td>Zombieland: Double Tap</td>\n",
       "      <td>2019-07-25</td>\n",
       "      <td>@prod.extema.da.sickomane</td>\n",
       "      <td>So I am very happy that the second part finall...</td>\n",
       "      <td>0</td>\n",
       "      <td>ZlW9yhUKlkQ</td>\n",
       "      <td>2019-10-24</td>\n",
       "      <td>0.000</td>\n",
       "      <td>0.778</td>\n",
       "      <td>0.222</td>\n",
       "      <td>0.6115</td>\n",
       "      <td>positive</td>\n",
       "      <td>2</td>\n",
       "    </tr>\n",
       "  </tbody>\n",
       "</table>\n",
       "</div>"
      ],
      "text/plain": [
       "   Unnamed: 0                   title comment_date                     author  \\\n",
       "0     1430112              Black Adam   2022-06-08             @levixenos8711   \n",
       "1     1495254            Cocaine Bear   2022-12-02          @keegandecker4080   \n",
       "2     1363019                   Elvis   2022-03-22            @TonyDanza4Lyfe   \n",
       "3      695841        New Mutants, The   2020-01-11         @samuelfrancis1816   \n",
       "4      495194  Zombieland: Double Tap   2019-07-25  @prod.extema.da.sickomane   \n",
       "\n",
       "                                             comment  likes     video_id  \\\n",
       "0  Marvel kids who had no idea about it crying in...      0  X0tOpBuYasI   \n",
       "1      IRL the bear died almost immediately of an OD      0  DuWEEKeJLMI   \n",
       "2  I thought this dude was extremely miscast as t...      0  wBDLRvjHVOY   \n",
       "3  This mutant genes fault is the celestials, the...      1  W_vJhUAOFpI   \n",
       "4  So I am very happy that the second part finall...      0  ZlW9yhUKlkQ   \n",
       "\n",
       "  release_date    neg    neu    pos  compound vader_sentiment  label  \n",
       "0   2022-10-20  0.375  0.463  0.162   -0.5673        negative      0  \n",
       "1   2023-02-23  0.310  0.690  0.000   -0.5574        negative      0  \n",
       "2   2022-06-23  0.000  0.784  0.216    0.5927        positive      2  \n",
       "3   2020-08-26  0.172  0.828  0.000   -0.4019        negative      0  \n",
       "4   2019-10-24  0.000  0.778  0.222    0.6115        positive      2  "
      ]
     },
     "execution_count": 22,
     "metadata": {},
     "output_type": "execute_result"
    }
   ],
   "source": [
    "sample_df.head()"
   ]
  },
  {
   "cell_type": "code",
   "execution_count": 24,
   "id": "1d7f491e-1800-4390-b8ae-49107cd5788e",
   "metadata": {},
   "outputs": [
    {
     "data": {
      "application/vnd.jupyter.widget-view+json": {
       "model_id": "fa9ac835890b4f9fb678b2a967f77b59",
       "version_major": 2,
       "version_minor": 0
      },
      "text/plain": [
       "Map:   0%|          | 0/30 [00:00<?, ? examples/s]"
      ]
     },
     "metadata": {},
     "output_type": "display_data"
    }
   ],
   "source": [
    "from datasets import Dataset\n",
    "\n",
    "# Convert to HF dataset\n",
    "sample_ds = Dataset.from_pandas(sample_df)\n",
    "\n",
    "# Tokenize\n",
    "def tokenize(example):\n",
    "    return tokenizer(example['comment'], truncation=True, padding=\"max_length\", max_length=256)\n",
    "\n",
    "tokenized_sample = sample_ds.map(tokenize)\n",
    "tokenized_sample.set_format(type=\"torch\", columns=[\"input_ids\", \"attention_mask\"])"
   ]
  },
  {
   "cell_type": "code",
   "execution_count": 26,
   "id": "4eeb3a58-37d9-4be9-a953-a86434262953",
   "metadata": {},
   "outputs": [
    {
     "name": "stderr",
     "output_type": "stream",
     "text": [
      "/opt/anaconda3/lib/python3.12/site-packages/torch/utils/data/dataloader.py:683: UserWarning: 'pin_memory' argument is set as true but not supported on MPS now, then device pinned memory won't be used.\n",
      "  warnings.warn(warn_msg)\n"
     ]
    },
    {
     "data": {
      "text/html": [],
      "text/plain": [
       "<IPython.core.display.HTML object>"
      ]
     },
     "metadata": {},
     "output_type": "display_data"
    }
   ],
   "source": [
    "# Run predictions\n",
    "sample_preds = final_trainer.predict(tokenized_sample)\n",
    "\n",
    "# Add predicted labels to the original sample_df\n",
    "sample_df['predicted_label'] = np.argmax(sample_preds.predictions, axis=1)\n",
    "sample_df['predicted_label_str'] = sample_df['predicted_label'].map(id2label)"
   ]
  },
  {
   "cell_type": "code",
   "execution_count": 28,
   "id": "42d624fc-2bcf-4da0-bfb8-2d1f77396927",
   "metadata": {},
   "outputs": [
    {
     "data": {
      "text/html": [
       "<div>\n",
       "<style scoped>\n",
       "    .dataframe tbody tr th:only-of-type {\n",
       "        vertical-align: middle;\n",
       "    }\n",
       "\n",
       "    .dataframe tbody tr th {\n",
       "        vertical-align: top;\n",
       "    }\n",
       "\n",
       "    .dataframe thead th {\n",
       "        text-align: right;\n",
       "    }\n",
       "</style>\n",
       "<table border=\"1\" class=\"dataframe\">\n",
       "  <thead>\n",
       "    <tr style=\"text-align: right;\">\n",
       "      <th></th>\n",
       "      <th>comment</th>\n",
       "      <th>vader_sentiment</th>\n",
       "      <th>predicted_label_str</th>\n",
       "    </tr>\n",
       "  </thead>\n",
       "  <tbody>\n",
       "    <tr>\n",
       "      <th>0</th>\n",
       "      <td>Marvel kids who had no idea about it crying in...</td>\n",
       "      <td>negative</td>\n",
       "      <td>negative</td>\n",
       "    </tr>\n",
       "    <tr>\n",
       "      <th>1</th>\n",
       "      <td>IRL the bear died almost immediately of an OD</td>\n",
       "      <td>negative</td>\n",
       "      <td>negative</td>\n",
       "    </tr>\n",
       "    <tr>\n",
       "      <th>2</th>\n",
       "      <td>I thought this dude was extremely miscast as t...</td>\n",
       "      <td>positive</td>\n",
       "      <td>positive</td>\n",
       "    </tr>\n",
       "    <tr>\n",
       "      <th>3</th>\n",
       "      <td>This mutant genes fault is the celestials, the...</td>\n",
       "      <td>negative</td>\n",
       "      <td>negative</td>\n",
       "    </tr>\n",
       "    <tr>\n",
       "      <th>4</th>\n",
       "      <td>So I am very happy that the second part finall...</td>\n",
       "      <td>positive</td>\n",
       "      <td>positive</td>\n",
       "    </tr>\n",
       "    <tr>\n",
       "      <th>5</th>\n",
       "      <td>Where's Spenser and Bethany</td>\n",
       "      <td>neutral</td>\n",
       "      <td>neutral</td>\n",
       "    </tr>\n",
       "    <tr>\n",
       "      <th>6</th>\n",
       "      <td>How tf was he bothering him, boi was having fun</td>\n",
       "      <td>positive</td>\n",
       "      <td>positive</td>\n",
       "    </tr>\n",
       "    <tr>\n",
       "      <th>7</th>\n",
       "      <td>Hyper-fixation reawakened🗣🗣🗣🗣🗣🗣🗣🗣🗣🗣🗣🗣🗣🗣🗣🗣🗣🗣🗣🗣</td>\n",
       "      <td>neutral</td>\n",
       "      <td>neutral</td>\n",
       "    </tr>\n",
       "    <tr>\n",
       "      <th>8</th>\n",
       "      <td>Hi I'm Tom Holland and I'm a sheep that weren'...</td>\n",
       "      <td>negative</td>\n",
       "      <td>negative</td>\n",
       "    </tr>\n",
       "    <tr>\n",
       "      <th>9</th>\n",
       "      <td>Yesss it’s givinnn 😍😍</td>\n",
       "      <td>positive</td>\n",
       "      <td>positive</td>\n",
       "    </tr>\n",
       "    <tr>\n",
       "      <th>10</th>\n",
       "      <td>THANK YOU PARAMOUNT</td>\n",
       "      <td>positive</td>\n",
       "      <td>positive</td>\n",
       "    </tr>\n",
       "    <tr>\n",
       "      <th>11</th>\n",
       "      <td>It's hammer right? Not an Axe? What's happened...</td>\n",
       "      <td>negative</td>\n",
       "      <td>negative</td>\n",
       "    </tr>\n",
       "    <tr>\n",
       "      <th>12</th>\n",
       "      <td>This feels like a young bruce wayne just start...</td>\n",
       "      <td>negative</td>\n",
       "      <td>negative</td>\n",
       "    </tr>\n",
       "    <tr>\n",
       "      <th>13</th>\n",
       "      <td>Please be good</td>\n",
       "      <td>positive</td>\n",
       "      <td>positive</td>\n",
       "    </tr>\n",
       "    <tr>\n",
       "      <th>14</th>\n",
       "      <td>This looks trash. Why just why</td>\n",
       "      <td>neutral</td>\n",
       "      <td>neutral</td>\n",
       "    </tr>\n",
       "    <tr>\n",
       "      <th>15</th>\n",
       "      <td>Yo they Vic firt logo</td>\n",
       "      <td>neutral</td>\n",
       "      <td>neutral</td>\n",
       "    </tr>\n",
       "    <tr>\n",
       "      <th>16</th>\n",
       "      <td>3 trailers in, still no Thanos. Unless he vani...</td>\n",
       "      <td>negative</td>\n",
       "      <td>negative</td>\n",
       "    </tr>\n",
       "    <tr>\n",
       "      <th>17</th>\n",
       "      <td>Take an original hollywood camera from 80's an...</td>\n",
       "      <td>negative</td>\n",
       "      <td>negative</td>\n",
       "    </tr>\n",
       "    <tr>\n",
       "      <th>18</th>\n",
       "      <td>This year 2023, John Wick is going to die.</td>\n",
       "      <td>negative</td>\n",
       "      <td>negative</td>\n",
       "    </tr>\n",
       "    <tr>\n",
       "      <th>19</th>\n",
       "      <td>Peter Cullen be like : Transformers Assemble O...</td>\n",
       "      <td>positive</td>\n",
       "      <td>positive</td>\n",
       "    </tr>\n",
       "    <tr>\n",
       "      <th>20</th>\n",
       "      <td>1:51 is that abomination?</td>\n",
       "      <td>neutral</td>\n",
       "      <td>neutral</td>\n",
       "    </tr>\n",
       "    <tr>\n",
       "      <th>21</th>\n",
       "      <td>I can't believe a movie trailer would actually...</td>\n",
       "      <td>negative</td>\n",
       "      <td>negative</td>\n",
       "    </tr>\n",
       "    <tr>\n",
       "      <th>22</th>\n",
       "      <td>Black Gloves &gt; Black Mask</td>\n",
       "      <td>neutral</td>\n",
       "      <td>neutral</td>\n",
       "    </tr>\n",
       "    <tr>\n",
       "      <th>23</th>\n",
       "      <td>Background music damn</td>\n",
       "      <td>negative</td>\n",
       "      <td>negative</td>\n",
       "    </tr>\n",
       "    <tr>\n",
       "      <th>24</th>\n",
       "      <td>Woooooooooo yea baby that’s what I’ve been wai...</td>\n",
       "      <td>neutral</td>\n",
       "      <td>neutral</td>\n",
       "    </tr>\n",
       "    <tr>\n",
       "      <th>25</th>\n",
       "      <td>Wait a minute at 1:59 if you slow down the sce...</td>\n",
       "      <td>positive</td>\n",
       "      <td>positive</td>\n",
       "    </tr>\n",
       "    <tr>\n",
       "      <th>26</th>\n",
       "      <td>I love that his family is involved and know hi...</td>\n",
       "      <td>positive</td>\n",
       "      <td>positive</td>\n",
       "    </tr>\n",
       "    <tr>\n",
       "      <th>27</th>\n",
       "      <td>2:20 live and learn in the background. I'm hav...</td>\n",
       "      <td>neutral</td>\n",
       "      <td>neutral</td>\n",
       "    </tr>\n",
       "    <tr>\n",
       "      <th>28</th>\n",
       "      <td>Hate ppl that say \"im watching\" like duh we kn...</td>\n",
       "      <td>positive</td>\n",
       "      <td>positive</td>\n",
       "    </tr>\n",
       "    <tr>\n",
       "      <th>29</th>\n",
       "      <td>March 22 is too long to wait! 🎉😂😮😊😱 Looks great.</td>\n",
       "      <td>positive</td>\n",
       "      <td>positive</td>\n",
       "    </tr>\n",
       "  </tbody>\n",
       "</table>\n",
       "</div>"
      ],
      "text/plain": [
       "                                              comment vader_sentiment  \\\n",
       "0   Marvel kids who had no idea about it crying in...        negative   \n",
       "1       IRL the bear died almost immediately of an OD        negative   \n",
       "2   I thought this dude was extremely miscast as t...        positive   \n",
       "3   This mutant genes fault is the celestials, the...        negative   \n",
       "4   So I am very happy that the second part finall...        positive   \n",
       "5                         Where's Spenser and Bethany         neutral   \n",
       "6     How tf was he bothering him, boi was having fun        positive   \n",
       "7       Hyper-fixation reawakened🗣🗣🗣🗣🗣🗣🗣🗣🗣🗣🗣🗣🗣🗣🗣🗣🗣🗣🗣🗣         neutral   \n",
       "8   Hi I'm Tom Holland and I'm a sheep that weren'...        negative   \n",
       "9                               Yesss it’s givinnn 😍😍        positive   \n",
       "10                                THANK YOU PARAMOUNT        positive   \n",
       "11  It's hammer right? Not an Axe? What's happened...        negative   \n",
       "12  This feels like a young bruce wayne just start...        negative   \n",
       "13                                     Please be good        positive   \n",
       "14                     This looks trash. Why just why         neutral   \n",
       "15                              Yo they Vic firt logo         neutral   \n",
       "16  3 trailers in, still no Thanos. Unless he vani...        negative   \n",
       "17  Take an original hollywood camera from 80's an...        negative   \n",
       "18         This year 2023, John Wick is going to die.        negative   \n",
       "19  Peter Cullen be like : Transformers Assemble O...        positive   \n",
       "20                          1:51 is that abomination?         neutral   \n",
       "21  I can't believe a movie trailer would actually...        negative   \n",
       "22                          Black Gloves > Black Mask         neutral   \n",
       "23                              Background music damn        negative   \n",
       "24  Woooooooooo yea baby that’s what I’ve been wai...         neutral   \n",
       "25  Wait a minute at 1:59 if you slow down the sce...        positive   \n",
       "26  I love that his family is involved and know hi...        positive   \n",
       "27  2:20 live and learn in the background. I'm hav...         neutral   \n",
       "28  Hate ppl that say \"im watching\" like duh we kn...        positive   \n",
       "29   March 22 is too long to wait! 🎉😂😮😊😱 Looks great.        positive   \n",
       "\n",
       "   predicted_label_str  \n",
       "0             negative  \n",
       "1             negative  \n",
       "2             positive  \n",
       "3             negative  \n",
       "4             positive  \n",
       "5              neutral  \n",
       "6             positive  \n",
       "7              neutral  \n",
       "8             negative  \n",
       "9             positive  \n",
       "10            positive  \n",
       "11            negative  \n",
       "12            negative  \n",
       "13            positive  \n",
       "14             neutral  \n",
       "15             neutral  \n",
       "16            negative  \n",
       "17            negative  \n",
       "18            negative  \n",
       "19            positive  \n",
       "20             neutral  \n",
       "21            negative  \n",
       "22             neutral  \n",
       "23            negative  \n",
       "24             neutral  \n",
       "25            positive  \n",
       "26            positive  \n",
       "27             neutral  \n",
       "28            positive  \n",
       "29            positive  "
      ]
     },
     "execution_count": 28,
     "metadata": {},
     "output_type": "execute_result"
    }
   ],
   "source": [
    "# View results\n",
    "sample_df[['comment', 'vader_sentiment', 'predicted_label_str']]"
   ]
  },
  {
   "cell_type": "code",
   "execution_count": 34,
   "id": "e29cfedd-a447-42eb-855a-14e937879b9f",
   "metadata": {},
   "outputs": [
    {
     "data": {
      "application/vnd.jupyter.widget-view+json": {
       "model_id": "e7eb3891f12940489a28d016b4cf3fb7",
       "version_major": 2,
       "version_minor": 0
      },
      "text/plain": [
       "Map:   0%|          | 0/100 [00:00<?, ? examples/s]"
      ]
     },
     "metadata": {},
     "output_type": "display_data"
    },
    {
     "name": "stderr",
     "output_type": "stream",
     "text": [
      "/opt/anaconda3/lib/python3.12/site-packages/torch/utils/data/dataloader.py:683: UserWarning: 'pin_memory' argument is set as true but not supported on MPS now, then device pinned memory won't be used.\n",
      "  warnings.warn(warn_msg)\n"
     ]
    },
    {
     "data": {
      "text/html": [],
      "text/plain": [
       "<IPython.core.display.HTML object>"
      ]
     },
     "metadata": {},
     "output_type": "display_data"
    },
    {
     "data": {
      "text/html": [
       "<div>\n",
       "<style scoped>\n",
       "    .dataframe tbody tr th:only-of-type {\n",
       "        vertical-align: middle;\n",
       "    }\n",
       "\n",
       "    .dataframe tbody tr th {\n",
       "        vertical-align: top;\n",
       "    }\n",
       "\n",
       "    .dataframe thead th {\n",
       "        text-align: right;\n",
       "    }\n",
       "</style>\n",
       "<table border=\"1\" class=\"dataframe\">\n",
       "  <thead>\n",
       "    <tr style=\"text-align: right;\">\n",
       "      <th></th>\n",
       "      <th>comment</th>\n",
       "      <th>vader_sentiment</th>\n",
       "      <th>predicted_label_str</th>\n",
       "    </tr>\n",
       "  </thead>\n",
       "  <tbody>\n",
       "    <tr>\n",
       "      <th>0</th>\n",
       "      <td>There's no way I can watch Tom Hanks and feel like I'm watching a grumpy old man. Sorry, but he can't do \"grumpy.\"</td>\n",
       "      <td>neutral</td>\n",
       "      <td>negative</td>\n",
       "    </tr>\n",
       "    <tr>\n",
       "      <th>1</th>\n",
       "      <td>Hate🤮</td>\n",
       "      <td>negative</td>\n",
       "      <td>positive</td>\n",
       "    </tr>\n",
       "    <tr>\n",
       "      <th>2</th>\n",
       "      <td>I absolutely can't wait for doctor strange 2 to come out 😁😁😁</td>\n",
       "      <td>positive</td>\n",
       "      <td>negative</td>\n",
       "    </tr>\n",
       "    <tr>\n",
       "      <th>3</th>\n",
       "      <td>Picking a random song from the 60s, 70s or 80s and throwing on a trailer doesn't make the freaking film good people. Stop falling for this crap.</td>\n",
       "      <td>neutral</td>\n",
       "      <td>positive</td>\n",
       "    </tr>\n",
       "    <tr>\n",
       "      <th>4</th>\n",
       "      <td>I saw, James Wan, I'm in! 🔥👏</td>\n",
       "      <td>negative</td>\n",
       "      <td>positive</td>\n",
       "    </tr>\n",
       "  </tbody>\n",
       "</table>\n",
       "</div>"
      ],
      "text/plain": [
       "                                                                                                                                            comment  \\\n",
       "0                                There's no way I can watch Tom Hanks and feel like I'm watching a grumpy old man. Sorry, but he can't do \"grumpy.\"   \n",
       "1                                                                                                                                             Hate🤮   \n",
       "2                                                                                      I absolutely can't wait for doctor strange 2 to come out 😁😁😁   \n",
       "3  Picking a random song from the 60s, 70s or 80s and throwing on a trailer doesn't make the freaking film good people. Stop falling for this crap.   \n",
       "4                                                                                                                      I saw, James Wan, I'm in! 🔥👏   \n",
       "\n",
       "  vader_sentiment predicted_label_str  \n",
       "0         neutral            negative  \n",
       "1        negative            positive  \n",
       "2        positive            negative  \n",
       "3         neutral            positive  \n",
       "4        negative            positive  "
      ]
     },
     "execution_count": 34,
     "metadata": {},
     "output_type": "execute_result"
    }
   ],
   "source": [
    "# let's check the performance of the fine tuned model on 100 comments and see where it disagrees with vader \n",
    "# Sample 100 comments\n",
    "sample_df = df.sample(100, random_state=42).reset_index(drop=True)\n",
    "\n",
    "# Convert to HF dataset and tokenize\n",
    "sample_ds = Dataset.from_pandas(sample_df)\n",
    "\n",
    "def tokenize(example):\n",
    "    return tokenizer(example['comment'], truncation=True, padding=\"max_length\", max_length=256)\n",
    "\n",
    "tokenized_sample = sample_ds.map(tokenize)\n",
    "tokenized_sample.set_format(type=\"torch\", columns=[\"input_ids\", \"attention_mask\"])\n",
    "\n",
    "# Predict with fine-tuned BERT model\n",
    "sample_preds = final_trainer.predict(tokenized_sample)\n",
    "sample_df['predicted_label'] = np.argmax(sample_preds.predictions, axis=1)\n",
    "sample_df['predicted_label_str'] = sample_df['predicted_label'].map(id2label)\n",
    "\n",
    "# to observe the full comment\n",
    "pd.set_option(\"display.max_colwidth\", None)\n",
    "\n",
    "# Filter disagreements between BERT and VADER\n",
    "disagreements_df = sample_df[sample_df['vader_sentiment'] != sample_df['predicted_label_str']].reset_index(drop=True)\n",
    "\n",
    "# View disagreements\n",
    "disagreements_df[['comment', 'vader_sentiment', 'predicted_label_str']]"
   ]
  },
  {
   "cell_type": "code",
   "execution_count": 32,
   "id": "837573c8-8e85-4c3b-89bf-13b4393a504a",
   "metadata": {},
   "outputs": [
    {
     "data": {
      "text/html": [
       "<div>\n",
       "<style scoped>\n",
       "    .dataframe tbody tr th:only-of-type {\n",
       "        vertical-align: middle;\n",
       "    }\n",
       "\n",
       "    .dataframe tbody tr th {\n",
       "        vertical-align: top;\n",
       "    }\n",
       "\n",
       "    .dataframe thead th {\n",
       "        text-align: right;\n",
       "    }\n",
       "</style>\n",
       "<table border=\"1\" class=\"dataframe\">\n",
       "  <thead>\n",
       "    <tr style=\"text-align: right;\">\n",
       "      <th></th>\n",
       "      <th>Unnamed: 0</th>\n",
       "      <th>title</th>\n",
       "      <th>comment_date</th>\n",
       "      <th>author</th>\n",
       "      <th>comment</th>\n",
       "      <th>likes</th>\n",
       "      <th>video_id</th>\n",
       "      <th>release_date</th>\n",
       "      <th>neg</th>\n",
       "      <th>neu</th>\n",
       "      <th>pos</th>\n",
       "      <th>compound</th>\n",
       "      <th>vader_sentiment</th>\n",
       "      <th>predicted_label</th>\n",
       "      <th>predicted_label_str</th>\n",
       "    </tr>\n",
       "  </thead>\n",
       "  <tbody>\n",
       "    <tr>\n",
       "      <th>0</th>\n",
       "      <td>1430112</td>\n",
       "      <td>Black Adam</td>\n",
       "      <td>2022-06-08</td>\n",
       "      <td>@levixenos8711</td>\n",
       "      <td>Marvel kids who had no idea about it crying in...</td>\n",
       "      <td>0</td>\n",
       "      <td>X0tOpBuYasI</td>\n",
       "      <td>2022-10-20</td>\n",
       "      <td>0.375</td>\n",
       "      <td>0.463</td>\n",
       "      <td>0.162</td>\n",
       "      <td>-0.5673</td>\n",
       "      <td>negative</td>\n",
       "      <td>0</td>\n",
       "      <td>negative</td>\n",
       "    </tr>\n",
       "    <tr>\n",
       "      <th>1</th>\n",
       "      <td>1495254</td>\n",
       "      <td>Cocaine Bear</td>\n",
       "      <td>2022-12-02</td>\n",
       "      <td>@keegandecker4080</td>\n",
       "      <td>IRL the bear died almost immediately of an OD</td>\n",
       "      <td>0</td>\n",
       "      <td>DuWEEKeJLMI</td>\n",
       "      <td>2023-02-23</td>\n",
       "      <td>0.310</td>\n",
       "      <td>0.690</td>\n",
       "      <td>0.000</td>\n",
       "      <td>-0.5574</td>\n",
       "      <td>negative</td>\n",
       "      <td>0</td>\n",
       "      <td>negative</td>\n",
       "    </tr>\n",
       "    <tr>\n",
       "      <th>2</th>\n",
       "      <td>1363019</td>\n",
       "      <td>Elvis</td>\n",
       "      <td>2022-03-22</td>\n",
       "      <td>@TonyDanza4Lyfe</td>\n",
       "      <td>I thought this dude was extremely miscast as t...</td>\n",
       "      <td>0</td>\n",
       "      <td>wBDLRvjHVOY</td>\n",
       "      <td>2022-06-23</td>\n",
       "      <td>0.000</td>\n",
       "      <td>0.784</td>\n",
       "      <td>0.216</td>\n",
       "      <td>0.5927</td>\n",
       "      <td>positive</td>\n",
       "      <td>2</td>\n",
       "      <td>positive</td>\n",
       "    </tr>\n",
       "    <tr>\n",
       "      <th>3</th>\n",
       "      <td>695841</td>\n",
       "      <td>New Mutants, The</td>\n",
       "      <td>2020-01-11</td>\n",
       "      <td>@samuelfrancis1816</td>\n",
       "      <td>This mutant genes fault is the celestials, the...</td>\n",
       "      <td>1</td>\n",
       "      <td>W_vJhUAOFpI</td>\n",
       "      <td>2020-08-26</td>\n",
       "      <td>0.172</td>\n",
       "      <td>0.828</td>\n",
       "      <td>0.000</td>\n",
       "      <td>-0.4019</td>\n",
       "      <td>negative</td>\n",
       "      <td>0</td>\n",
       "      <td>negative</td>\n",
       "    </tr>\n",
       "    <tr>\n",
       "      <th>4</th>\n",
       "      <td>495194</td>\n",
       "      <td>Zombieland: Double Tap</td>\n",
       "      <td>2019-07-25</td>\n",
       "      <td>@prod.extema.da.sickomane</td>\n",
       "      <td>So I am very happy that the second part finall...</td>\n",
       "      <td>0</td>\n",
       "      <td>ZlW9yhUKlkQ</td>\n",
       "      <td>2019-10-24</td>\n",
       "      <td>0.000</td>\n",
       "      <td>0.778</td>\n",
       "      <td>0.222</td>\n",
       "      <td>0.6115</td>\n",
       "      <td>positive</td>\n",
       "      <td>2</td>\n",
       "      <td>positive</td>\n",
       "    </tr>\n",
       "    <tr>\n",
       "      <th>...</th>\n",
       "      <td>...</td>\n",
       "      <td>...</td>\n",
       "      <td>...</td>\n",
       "      <td>...</td>\n",
       "      <td>...</td>\n",
       "      <td>...</td>\n",
       "      <td>...</td>\n",
       "      <td>...</td>\n",
       "      <td>...</td>\n",
       "      <td>...</td>\n",
       "      <td>...</td>\n",
       "      <td>...</td>\n",
       "      <td>...</td>\n",
       "      <td>...</td>\n",
       "      <td>...</td>\n",
       "    </tr>\n",
       "    <tr>\n",
       "      <th>95</th>\n",
       "      <td>1561584</td>\n",
       "      <td>Evil Dead Rise</td>\n",
       "      <td>2023-01-26</td>\n",
       "      <td>@naomigray21</td>\n",
       "      <td>This looks so good</td>\n",
       "      <td>0</td>\n",
       "      <td>smTK_AeAPHs</td>\n",
       "      <td>2023-04-20</td>\n",
       "      <td>0.000</td>\n",
       "      <td>0.445</td>\n",
       "      <td>0.555</td>\n",
       "      <td>0.5777</td>\n",
       "      <td>positive</td>\n",
       "      <td>2</td>\n",
       "      <td>positive</td>\n",
       "    </tr>\n",
       "    <tr>\n",
       "      <th>96</th>\n",
       "      <td>1830920</td>\n",
       "      <td>Night Swim</td>\n",
       "      <td>2023-10-12</td>\n",
       "      <td>@aechiyo9008</td>\n",
       "      <td>I saw, James Wan, I'm in! 🔥👏</td>\n",
       "      <td>0</td>\n",
       "      <td>pcSNqteCEtE</td>\n",
       "      <td>2024-01-04</td>\n",
       "      <td>0.252</td>\n",
       "      <td>0.748</td>\n",
       "      <td>0.000</td>\n",
       "      <td>-0.4003</td>\n",
       "      <td>negative</td>\n",
       "      <td>2</td>\n",
       "      <td>positive</td>\n",
       "    </tr>\n",
       "    <tr>\n",
       "      <th>97</th>\n",
       "      <td>2550408</td>\n",
       "      <td>Fast X</td>\n",
       "      <td>2023-02-14</td>\n",
       "      <td>@biggestthreattoyourexistence</td>\n",
       "      <td>Oh thank goodness the original cast. The Rock ...</td>\n",
       "      <td>0</td>\n",
       "      <td>32RAq6JzY-w</td>\n",
       "      <td>2023-05-18</td>\n",
       "      <td>0.169</td>\n",
       "      <td>0.393</td>\n",
       "      <td>0.438</td>\n",
       "      <td>0.5859</td>\n",
       "      <td>positive</td>\n",
       "      <td>2</td>\n",
       "      <td>positive</td>\n",
       "    </tr>\n",
       "    <tr>\n",
       "      <th>98</th>\n",
       "      <td>2476846</td>\n",
       "      <td>Black Panther: Wakanda Forever</td>\n",
       "      <td>2022-10-09</td>\n",
       "      <td>@TheRichard73</td>\n",
       "      <td>I’m disappointed, really wanted Killmonger</td>\n",
       "      <td>0</td>\n",
       "      <td>_Z3QKkl1WyM</td>\n",
       "      <td>2022-11-10</td>\n",
       "      <td>0.437</td>\n",
       "      <td>0.563</td>\n",
       "      <td>0.000</td>\n",
       "      <td>-0.4767</td>\n",
       "      <td>negative</td>\n",
       "      <td>0</td>\n",
       "      <td>negative</td>\n",
       "    </tr>\n",
       "    <tr>\n",
       "      <th>99</th>\n",
       "      <td>2133070</td>\n",
       "      <td>Avengers: Endgame</td>\n",
       "      <td>2019-03-19</td>\n",
       "      <td>@mcstrikey413</td>\n",
       "      <td>_\"I like this one.”_ Well you’re the only one...</td>\n",
       "      <td>0</td>\n",
       "      <td>TcMBFSGVi1c</td>\n",
       "      <td>2019-04-25</td>\n",
       "      <td>0.000</td>\n",
       "      <td>0.603</td>\n",
       "      <td>0.397</td>\n",
       "      <td>0.5574</td>\n",
       "      <td>positive</td>\n",
       "      <td>2</td>\n",
       "      <td>positive</td>\n",
       "    </tr>\n",
       "  </tbody>\n",
       "</table>\n",
       "<p>100 rows × 15 columns</p>\n",
       "</div>"
      ],
      "text/plain": [
       "    Unnamed: 0                           title comment_date  \\\n",
       "0      1430112                      Black Adam   2022-06-08   \n",
       "1      1495254                    Cocaine Bear   2022-12-02   \n",
       "2      1363019                           Elvis   2022-03-22   \n",
       "3       695841                New Mutants, The   2020-01-11   \n",
       "4       495194          Zombieland: Double Tap   2019-07-25   \n",
       "..         ...                             ...          ...   \n",
       "95     1561584                  Evil Dead Rise   2023-01-26   \n",
       "96     1830920                      Night Swim   2023-10-12   \n",
       "97     2550408                          Fast X   2023-02-14   \n",
       "98     2476846  Black Panther: Wakanda Forever   2022-10-09   \n",
       "99     2133070               Avengers: Endgame   2019-03-19   \n",
       "\n",
       "                           author  \\\n",
       "0                  @levixenos8711   \n",
       "1               @keegandecker4080   \n",
       "2                 @TonyDanza4Lyfe   \n",
       "3              @samuelfrancis1816   \n",
       "4       @prod.extema.da.sickomane   \n",
       "..                            ...   \n",
       "95                   @naomigray21   \n",
       "96                   @aechiyo9008   \n",
       "97  @biggestthreattoyourexistence   \n",
       "98                  @TheRichard73   \n",
       "99                  @mcstrikey413   \n",
       "\n",
       "                                              comment  likes     video_id  \\\n",
       "0   Marvel kids who had no idea about it crying in...      0  X0tOpBuYasI   \n",
       "1       IRL the bear died almost immediately of an OD      0  DuWEEKeJLMI   \n",
       "2   I thought this dude was extremely miscast as t...      0  wBDLRvjHVOY   \n",
       "3   This mutant genes fault is the celestials, the...      1  W_vJhUAOFpI   \n",
       "4   So I am very happy that the second part finall...      0  ZlW9yhUKlkQ   \n",
       "..                                                ...    ...          ...   \n",
       "95                                 This looks so good      0  smTK_AeAPHs   \n",
       "96                       I saw, James Wan, I'm in! 🔥👏      0  pcSNqteCEtE   \n",
       "97  Oh thank goodness the original cast. The Rock ...      0  32RAq6JzY-w   \n",
       "98         I’m disappointed, really wanted Killmonger      0  _Z3QKkl1WyM   \n",
       "99   _\"I like this one.”_ Well you’re the only one...      0  TcMBFSGVi1c   \n",
       "\n",
       "   release_date    neg    neu    pos  compound vader_sentiment  \\\n",
       "0    2022-10-20  0.375  0.463  0.162   -0.5673        negative   \n",
       "1    2023-02-23  0.310  0.690  0.000   -0.5574        negative   \n",
       "2    2022-06-23  0.000  0.784  0.216    0.5927        positive   \n",
       "3    2020-08-26  0.172  0.828  0.000   -0.4019        negative   \n",
       "4    2019-10-24  0.000  0.778  0.222    0.6115        positive   \n",
       "..          ...    ...    ...    ...       ...             ...   \n",
       "95   2023-04-20  0.000  0.445  0.555    0.5777        positive   \n",
       "96   2024-01-04  0.252  0.748  0.000   -0.4003        negative   \n",
       "97   2023-05-18  0.169  0.393  0.438    0.5859        positive   \n",
       "98   2022-11-10  0.437  0.563  0.000   -0.4767        negative   \n",
       "99   2019-04-25  0.000  0.603  0.397    0.5574        positive   \n",
       "\n",
       "    predicted_label predicted_label_str  \n",
       "0                 0            negative  \n",
       "1                 0            negative  \n",
       "2                 2            positive  \n",
       "3                 0            negative  \n",
       "4                 2            positive  \n",
       "..              ...                 ...  \n",
       "95                2            positive  \n",
       "96                2            positive  \n",
       "97                2            positive  \n",
       "98                0            negative  \n",
       "99                2            positive  \n",
       "\n",
       "[100 rows x 15 columns]"
      ]
     },
     "execution_count": 32,
     "metadata": {},
     "output_type": "execute_result"
    }
   ],
   "source": [
    "sample_df"
   ]
  },
  {
   "cell_type": "code",
   "execution_count": 36,
   "id": "97be0d18-f1fc-4b54-bee8-dcb578685a70",
   "metadata": {},
   "outputs": [
    {
     "data": {
      "application/vnd.jupyter.widget-view+json": {
       "model_id": "c9757a062c714a83be63c71f4b58c3a0",
       "version_major": 2,
       "version_minor": 0
      },
      "text/plain": [
       "Map:   0%|          | 0/100 [00:00<?, ? examples/s]"
      ]
     },
     "metadata": {},
     "output_type": "display_data"
    },
    {
     "name": "stderr",
     "output_type": "stream",
     "text": [
      "/opt/anaconda3/lib/python3.12/site-packages/torch/utils/data/dataloader.py:683: UserWarning: 'pin_memory' argument is set as true but not supported on MPS now, then device pinned memory won't be used.\n",
      "  warnings.warn(warn_msg)\n"
     ]
    },
    {
     "data": {
      "text/html": [],
      "text/plain": [
       "<IPython.core.display.HTML object>"
      ]
     },
     "metadata": {},
     "output_type": "display_data"
    },
    {
     "data": {
      "text/html": [
       "<div>\n",
       "<style scoped>\n",
       "    .dataframe tbody tr th:only-of-type {\n",
       "        vertical-align: middle;\n",
       "    }\n",
       "\n",
       "    .dataframe tbody tr th {\n",
       "        vertical-align: top;\n",
       "    }\n",
       "\n",
       "    .dataframe thead th {\n",
       "        text-align: right;\n",
       "    }\n",
       "</style>\n",
       "<table border=\"1\" class=\"dataframe\">\n",
       "  <thead>\n",
       "    <tr style=\"text-align: right;\">\n",
       "      <th></th>\n",
       "      <th>comment</th>\n",
       "      <th>vader_sentiment</th>\n",
       "      <th>predicted_label_str</th>\n",
       "      <th>bert_confidence</th>\n",
       "    </tr>\n",
       "  </thead>\n",
       "  <tbody>\n",
       "    <tr>\n",
       "      <th>0</th>\n",
       "      <td>There's no way I can watch Tom Hanks and feel like I'm watching a grumpy old man. Sorry, but he can't do \"grumpy.\"</td>\n",
       "      <td>neutral</td>\n",
       "      <td>negative</td>\n",
       "      <td>0.520862</td>\n",
       "    </tr>\n",
       "    <tr>\n",
       "      <th>1</th>\n",
       "      <td>Hate🤮</td>\n",
       "      <td>negative</td>\n",
       "      <td>positive</td>\n",
       "      <td>0.649006</td>\n",
       "    </tr>\n",
       "    <tr>\n",
       "      <th>2</th>\n",
       "      <td>I absolutely can't wait for doctor strange 2 to come out 😁😁😁</td>\n",
       "      <td>positive</td>\n",
       "      <td>negative</td>\n",
       "      <td>0.607378</td>\n",
       "    </tr>\n",
       "    <tr>\n",
       "      <th>3</th>\n",
       "      <td>Picking a random song from the 60s, 70s or 80s and throwing on a trailer doesn't make the freaking film good people. Stop falling for this crap.</td>\n",
       "      <td>neutral</td>\n",
       "      <td>positive</td>\n",
       "      <td>0.762711</td>\n",
       "    </tr>\n",
       "    <tr>\n",
       "      <th>4</th>\n",
       "      <td>I saw, James Wan, I'm in! 🔥👏</td>\n",
       "      <td>negative</td>\n",
       "      <td>positive</td>\n",
       "      <td>0.745483</td>\n",
       "    </tr>\n",
       "  </tbody>\n",
       "</table>\n",
       "</div>"
      ],
      "text/plain": [
       "                                                                                                                                            comment  \\\n",
       "0                                There's no way I can watch Tom Hanks and feel like I'm watching a grumpy old man. Sorry, but he can't do \"grumpy.\"   \n",
       "1                                                                                                                                             Hate🤮   \n",
       "2                                                                                      I absolutely can't wait for doctor strange 2 to come out 😁😁😁   \n",
       "3  Picking a random song from the 60s, 70s or 80s and throwing on a trailer doesn't make the freaking film good people. Stop falling for this crap.   \n",
       "4                                                                                                                      I saw, James Wan, I'm in! 🔥👏   \n",
       "\n",
       "  vader_sentiment predicted_label_str  bert_confidence  \n",
       "0         neutral            negative         0.520862  \n",
       "1        negative            positive         0.649006  \n",
       "2        positive            negative         0.607378  \n",
       "3         neutral            positive         0.762711  \n",
       "4        negative            positive         0.745483  "
      ]
     },
     "execution_count": 36,
     "metadata": {},
     "output_type": "execute_result"
    }
   ],
   "source": [
    "import torch\n",
    "from torch.nn.functional import softmax\n",
    "import pandas as pd\n",
    "from datasets import Dataset\n",
    "\n",
    "# Sample 100 comments\n",
    "sample_df = df.sample(100, random_state=42).reset_index(drop=True)\n",
    "\n",
    "# Convert to HF dataset and tokenize\n",
    "sample_ds = Dataset.from_pandas(sample_df)\n",
    "\n",
    "def tokenize(example):\n",
    "    return tokenizer(example['comment'], truncation=True, padding=\"max_length\", max_length=256)\n",
    "\n",
    "tokenized_sample = sample_ds.map(tokenize)\n",
    "tokenized_sample.set_format(type=\"torch\", columns=[\"input_ids\", \"attention_mask\"])\n",
    "\n",
    "# Predict with fine-tuned BERT model\n",
    "sample_preds = final_trainer.predict(tokenized_sample)\n",
    "\n",
    "# Predicted class\n",
    "sample_df['predicted_label'] = np.argmax(sample_preds.predictions, axis=1)\n",
    "sample_df['predicted_label_str'] = sample_df['predicted_label'].map(id2label)\n",
    "\n",
    "# Get softmax confidence scores\n",
    "probs = softmax(torch.tensor(sample_preds.predictions), dim=1)\n",
    "sample_df['bert_confidence'] = torch.max(probs, dim=1).values.numpy()\n",
    "\n",
    "# Show full comments\n",
    "pd.set_option(\"display.max_colwidth\", None)\n",
    "\n",
    "# Filter and show disagreements with confidence\n",
    "disagreements_df = sample_df[sample_df['vader_sentiment'] != sample_df['predicted_label_str']].reset_index(drop=True)\n",
    "disagreements_df[['comment', 'vader_sentiment', 'predicted_label_str', 'bert_confidence']]"
   ]
  },
  {
   "cell_type": "code",
   "execution_count": 38,
   "id": "0f576012-52e9-41a4-819b-120dea3e1a22",
   "metadata": {},
   "outputs": [
    {
     "name": "stderr",
     "output_type": "stream",
     "text": [
      "Labeling Chunks:   0%|                                   | 0/27 [00:00<?, ?it/s]"
     ]
    },
    {
     "name": "stdout",
     "output_type": "stream",
     "text": [
      "\n",
      "🔄 Processing chunk 1\n"
     ]
    },
    {
     "name": "stderr",
     "output_type": "stream",
     "text": [
      "/var/folders/l9/8hmxymj146lc9m7tzd_r6lbm0000gn/T/ipykernel_15060/1958467566.py:65: SettingWithCopyWarning: \n",
      "A value is trying to be set on a copy of a slice from a DataFrame.\n",
      "Try using .loc[row_indexer,col_indexer] = value instead\n",
      "\n",
      "See the caveats in the documentation: https://pandas.pydata.org/pandas-docs/stable/user_guide/indexing.html#returning-a-view-versus-a-copy\n",
      "  chunk[\"bert_sentiment\"] = [id2label[p] for p in preds]\n",
      "/var/folders/l9/8hmxymj146lc9m7tzd_r6lbm0000gn/T/ipykernel_15060/1958467566.py:66: SettingWithCopyWarning: \n",
      "A value is trying to be set on a copy of a slice from a DataFrame.\n",
      "Try using .loc[row_indexer,col_indexer] = value instead\n",
      "\n",
      "See the caveats in the documentation: https://pandas.pydata.org/pandas-docs/stable/user_guide/indexing.html#returning-a-view-versus-a-copy\n",
      "  chunk[\"bert_confidence\"] = confs\n",
      "Labeling Chunks:   4%|▋                  | 1/27 [2:56:18<76:23:51, 10578.12s/it]"
     ]
    },
    {
     "name": "stdout",
     "output_type": "stream",
     "text": [
      "\n",
      "🔄 Processing chunk 2\n"
     ]
    },
    {
     "name": "stderr",
     "output_type": "stream",
     "text": [
      "/var/folders/l9/8hmxymj146lc9m7tzd_r6lbm0000gn/T/ipykernel_15060/1958467566.py:65: SettingWithCopyWarning: \n",
      "A value is trying to be set on a copy of a slice from a DataFrame.\n",
      "Try using .loc[row_indexer,col_indexer] = value instead\n",
      "\n",
      "See the caveats in the documentation: https://pandas.pydata.org/pandas-docs/stable/user_guide/indexing.html#returning-a-view-versus-a-copy\n",
      "  chunk[\"bert_sentiment\"] = [id2label[p] for p in preds]\n",
      "/var/folders/l9/8hmxymj146lc9m7tzd_r6lbm0000gn/T/ipykernel_15060/1958467566.py:66: SettingWithCopyWarning: \n",
      "A value is trying to be set on a copy of a slice from a DataFrame.\n",
      "Try using .loc[row_indexer,col_indexer] = value instead\n",
      "\n",
      "See the caveats in the documentation: https://pandas.pydata.org/pandas-docs/stable/user_guide/indexing.html#returning-a-view-versus-a-copy\n",
      "  chunk[\"bert_confidence\"] = confs\n",
      "Labeling Chunks:   7%|█▍                  | 2/27 [5:03:13<61:21:17, 8835.09s/it]"
     ]
    },
    {
     "name": "stdout",
     "output_type": "stream",
     "text": [
      "\n",
      "🔄 Processing chunk 3\n"
     ]
    },
    {
     "name": "stderr",
     "output_type": "stream",
     "text": [
      "/var/folders/l9/8hmxymj146lc9m7tzd_r6lbm0000gn/T/ipykernel_15060/1958467566.py:65: SettingWithCopyWarning: \n",
      "A value is trying to be set on a copy of a slice from a DataFrame.\n",
      "Try using .loc[row_indexer,col_indexer] = value instead\n",
      "\n",
      "See the caveats in the documentation: https://pandas.pydata.org/pandas-docs/stable/user_guide/indexing.html#returning-a-view-versus-a-copy\n",
      "  chunk[\"bert_sentiment\"] = [id2label[p] for p in preds]\n",
      "/var/folders/l9/8hmxymj146lc9m7tzd_r6lbm0000gn/T/ipykernel_15060/1958467566.py:66: SettingWithCopyWarning: \n",
      "A value is trying to be set on a copy of a slice from a DataFrame.\n",
      "Try using .loc[row_indexer,col_indexer] = value instead\n",
      "\n",
      "See the caveats in the documentation: https://pandas.pydata.org/pandas-docs/stable/user_guide/indexing.html#returning-a-view-versus-a-copy\n",
      "  chunk[\"bert_confidence\"] = confs\n",
      "Labeling Chunks:  11%|██▏                 | 3/27 [7:22:40<57:28:38, 8621.61s/it]"
     ]
    },
    {
     "name": "stdout",
     "output_type": "stream",
     "text": [
      "\n",
      "🔄 Processing chunk 4\n"
     ]
    },
    {
     "name": "stderr",
     "output_type": "stream",
     "text": [
      "Labeling Chunks:  15%|██▌              | 4/27 [20:18:59<150:49:14, 23606.70s/it]"
     ]
    },
    {
     "name": "stdout",
     "output_type": "stream",
     "text": [
      "\n",
      "🔄 Processing chunk 5\n"
     ]
    },
    {
     "name": "stderr",
     "output_type": "stream",
     "text": [
      "Labeling Chunks:  19%|███▏             | 5/27 [22:31:29<109:45:36, 17960.75s/it]"
     ]
    },
    {
     "name": "stdout",
     "output_type": "stream",
     "text": [
      "\n",
      "🔄 Processing chunk 6\n"
     ]
    },
    {
     "name": "stderr",
     "output_type": "stream",
     "text": [
      "Labeling Chunks:  22%|████              | 6/27 [24:52:17<85:54:18, 14726.60s/it]"
     ]
    },
    {
     "name": "stdout",
     "output_type": "stream",
     "text": [
      "\n",
      "🔄 Processing chunk 7\n"
     ]
    },
    {
     "name": "stderr",
     "output_type": "stream",
     "text": [
      "Labeling Chunks:  26%|████▋             | 7/27 [28:28:16<78:36:10, 14148.53s/it]"
     ]
    },
    {
     "name": "stdout",
     "output_type": "stream",
     "text": [
      "\n",
      "🔄 Processing chunk 8\n"
     ]
    },
    {
     "name": "stderr",
     "output_type": "stream",
     "text": [
      "Labeling Chunks:  30%|█████▎            | 8/27 [31:08:30<67:03:16, 12705.10s/it]"
     ]
    },
    {
     "name": "stdout",
     "output_type": "stream",
     "text": [
      "\n",
      "🔄 Processing chunk 9\n"
     ]
    },
    {
     "name": "stderr",
     "output_type": "stream",
     "text": [
      "Labeling Chunks:  33%|██████            | 9/27 [36:06:51<71:38:49, 14329.44s/it]"
     ]
    },
    {
     "name": "stdout",
     "output_type": "stream",
     "text": [
      "\n",
      "🔄 Processing chunk 10\n"
     ]
    },
    {
     "name": "stderr",
     "output_type": "stream",
     "text": [
      "Labeling Chunks:  37%|█████▉          | 10/27 [47:03:00<104:10:10, 22059.44s/it]"
     ]
    },
    {
     "name": "stdout",
     "output_type": "stream",
     "text": [
      "\n",
      "🔄 Processing chunk 11\n"
     ]
    },
    {
     "name": "stderr",
     "output_type": "stream",
     "text": [
      "Labeling Chunks:  41%|██████▉          | 11/27 [50:04:39<82:51:41, 18643.85s/it]"
     ]
    },
    {
     "name": "stdout",
     "output_type": "stream",
     "text": [
      "\n",
      "🔄 Processing chunk 12\n"
     ]
    },
    {
     "name": "stderr",
     "output_type": "stream",
     "text": [
      "Labeling Chunks:  44%|███████▌         | 12/27 [52:20:45<64:24:04, 15456.33s/it]"
     ]
    },
    {
     "name": "stdout",
     "output_type": "stream",
     "text": [
      "\n",
      "🔄 Processing chunk 13\n"
     ]
    },
    {
     "name": "stderr",
     "output_type": "stream",
     "text": [
      "Labeling Chunks:  48%|████████▏        | 13/27 [55:03:44<53:25:12, 13736.60s/it]"
     ]
    },
    {
     "name": "stdout",
     "output_type": "stream",
     "text": [
      "\n",
      "🔄 Processing chunk 14\n"
     ]
    },
    {
     "name": "stderr",
     "output_type": "stream",
     "text": [
      "Labeling Chunks:  52%|████████▊        | 14/27 [70:22:16<94:44:02, 26234.05s/it]"
     ]
    },
    {
     "name": "stdout",
     "output_type": "stream",
     "text": [
      "\n",
      "🔄 Processing chunk 15\n"
     ]
    },
    {
     "name": "stderr",
     "output_type": "stream",
     "text": [
      "Labeling Chunks:  56%|█████████▍       | 15/27 [72:40:28<69:25:05, 20825.48s/it]"
     ]
    },
    {
     "name": "stdout",
     "output_type": "stream",
     "text": [
      "\n",
      "🔄 Processing chunk 16\n"
     ]
    },
    {
     "name": "stderr",
     "output_type": "stream",
     "text": [
      "Labeling Chunks:  59%|██████████       | 16/27 [76:11:30<56:07:34, 18368.56s/it]"
     ]
    },
    {
     "name": "stdout",
     "output_type": "stream",
     "text": [
      "\n",
      "🔄 Processing chunk 17\n"
     ]
    },
    {
     "name": "stderr",
     "output_type": "stream",
     "text": [
      "Labeling Chunks:  63%|██████████▋      | 17/27 [79:01:47<44:12:52, 15917.28s/it]"
     ]
    },
    {
     "name": "stdout",
     "output_type": "stream",
     "text": [
      "\n",
      "🔄 Processing chunk 18\n"
     ]
    },
    {
     "name": "stderr",
     "output_type": "stream",
     "text": [
      "Labeling Chunks:  67%|███████████▎     | 18/27 [91:58:52<62:51:41, 25144.61s/it]"
     ]
    },
    {
     "name": "stdout",
     "output_type": "stream",
     "text": [
      "\n",
      "🔄 Processing chunk 19\n"
     ]
    },
    {
     "name": "stderr",
     "output_type": "stream",
     "text": [
      "Labeling Chunks:  70%|██████████▌    | 19/27 [117:28:48<100:21:41, 45162.68s/it]"
     ]
    },
    {
     "name": "stdout",
     "output_type": "stream",
     "text": [
      "\n",
      "🔄 Processing chunk 20\n"
     ]
    },
    {
     "name": "stderr",
     "output_type": "stream",
     "text": [
      "Labeling Chunks:  74%|███████████▊    | 20/27 [119:51:55<66:27:48, 34181.25s/it]"
     ]
    },
    {
     "name": "stdout",
     "output_type": "stream",
     "text": [
      "\n",
      "🔄 Processing chunk 21\n"
     ]
    },
    {
     "name": "stderr",
     "output_type": "stream",
     "text": [
      "/var/folders/l9/8hmxymj146lc9m7tzd_r6lbm0000gn/T/ipykernel_15060/1958467566.py:65: SettingWithCopyWarning: \n",
      "A value is trying to be set on a copy of a slice from a DataFrame.\n",
      "Try using .loc[row_indexer,col_indexer] = value instead\n",
      "\n",
      "See the caveats in the documentation: https://pandas.pydata.org/pandas-docs/stable/user_guide/indexing.html#returning-a-view-versus-a-copy\n",
      "  chunk[\"bert_sentiment\"] = [id2label[p] for p in preds]\n",
      "/var/folders/l9/8hmxymj146lc9m7tzd_r6lbm0000gn/T/ipykernel_15060/1958467566.py:66: SettingWithCopyWarning: \n",
      "A value is trying to be set on a copy of a slice from a DataFrame.\n",
      "Try using .loc[row_indexer,col_indexer] = value instead\n",
      "\n",
      "See the caveats in the documentation: https://pandas.pydata.org/pandas-docs/stable/user_guide/indexing.html#returning-a-view-versus-a-copy\n",
      "  chunk[\"bert_confidence\"] = confs\n",
      "Labeling Chunks:  78%|████████████▍   | 21/27 [122:41:28<44:57:29, 26974.95s/it]"
     ]
    },
    {
     "name": "stdout",
     "output_type": "stream",
     "text": [
      "\n",
      "🔄 Processing chunk 22\n"
     ]
    },
    {
     "name": "stderr",
     "output_type": "stream",
     "text": [
      "/var/folders/l9/8hmxymj146lc9m7tzd_r6lbm0000gn/T/ipykernel_15060/1958467566.py:65: SettingWithCopyWarning: \n",
      "A value is trying to be set on a copy of a slice from a DataFrame.\n",
      "Try using .loc[row_indexer,col_indexer] = value instead\n",
      "\n",
      "See the caveats in the documentation: https://pandas.pydata.org/pandas-docs/stable/user_guide/indexing.html#returning-a-view-versus-a-copy\n",
      "  chunk[\"bert_sentiment\"] = [id2label[p] for p in preds]\n",
      "/var/folders/l9/8hmxymj146lc9m7tzd_r6lbm0000gn/T/ipykernel_15060/1958467566.py:66: SettingWithCopyWarning: \n",
      "A value is trying to be set on a copy of a slice from a DataFrame.\n",
      "Try using .loc[row_indexer,col_indexer] = value instead\n",
      "\n",
      "See the caveats in the documentation: https://pandas.pydata.org/pandas-docs/stable/user_guide/indexing.html#returning-a-view-versus-a-copy\n",
      "  chunk[\"bert_confidence\"] = confs\n",
      "Labeling Chunks:  81%|█████████████   | 22/27 [126:11:11<31:27:57, 22655.48s/it]"
     ]
    },
    {
     "name": "stdout",
     "output_type": "stream",
     "text": [
      "\n",
      "🔄 Processing chunk 23\n"
     ]
    },
    {
     "name": "stderr",
     "output_type": "stream",
     "text": [
      "/var/folders/l9/8hmxymj146lc9m7tzd_r6lbm0000gn/T/ipykernel_15060/1958467566.py:65: SettingWithCopyWarning: \n",
      "A value is trying to be set on a copy of a slice from a DataFrame.\n",
      "Try using .loc[row_indexer,col_indexer] = value instead\n",
      "\n",
      "See the caveats in the documentation: https://pandas.pydata.org/pandas-docs/stable/user_guide/indexing.html#returning-a-view-versus-a-copy\n",
      "  chunk[\"bert_sentiment\"] = [id2label[p] for p in preds]\n",
      "/var/folders/l9/8hmxymj146lc9m7tzd_r6lbm0000gn/T/ipykernel_15060/1958467566.py:66: SettingWithCopyWarning: \n",
      "A value is trying to be set on a copy of a slice from a DataFrame.\n",
      "Try using .loc[row_indexer,col_indexer] = value instead\n",
      "\n",
      "See the caveats in the documentation: https://pandas.pydata.org/pandas-docs/stable/user_guide/indexing.html#returning-a-view-versus-a-copy\n",
      "  chunk[\"bert_confidence\"] = confs\n",
      "Labeling Chunks:  85%|█████████████▋  | 23/27 [130:32:12<22:50:26, 20556.63s/it]"
     ]
    },
    {
     "name": "stdout",
     "output_type": "stream",
     "text": [
      "\n",
      "🔄 Processing chunk 24\n"
     ]
    },
    {
     "name": "stderr",
     "output_type": "stream",
     "text": [
      "/var/folders/l9/8hmxymj146lc9m7tzd_r6lbm0000gn/T/ipykernel_15060/1958467566.py:65: SettingWithCopyWarning: \n",
      "A value is trying to be set on a copy of a slice from a DataFrame.\n",
      "Try using .loc[row_indexer,col_indexer] = value instead\n",
      "\n",
      "See the caveats in the documentation: https://pandas.pydata.org/pandas-docs/stable/user_guide/indexing.html#returning-a-view-versus-a-copy\n",
      "  chunk[\"bert_sentiment\"] = [id2label[p] for p in preds]\n",
      "/var/folders/l9/8hmxymj146lc9m7tzd_r6lbm0000gn/T/ipykernel_15060/1958467566.py:66: SettingWithCopyWarning: \n",
      "A value is trying to be set on a copy of a slice from a DataFrame.\n",
      "Try using .loc[row_indexer,col_indexer] = value instead\n",
      "\n",
      "See the caveats in the documentation: https://pandas.pydata.org/pandas-docs/stable/user_guide/indexing.html#returning-a-view-versus-a-copy\n",
      "  chunk[\"bert_confidence\"] = confs\n",
      "Labeling Chunks:  89%|██████████████▏ | 24/27 [143:10:12<23:21:44, 28035.00s/it]"
     ]
    },
    {
     "name": "stdout",
     "output_type": "stream",
     "text": [
      "\n",
      "🔄 Processing chunk 25\n"
     ]
    },
    {
     "name": "stderr",
     "output_type": "stream",
     "text": [
      "/var/folders/l9/8hmxymj146lc9m7tzd_r6lbm0000gn/T/ipykernel_15060/1958467566.py:65: SettingWithCopyWarning: \n",
      "A value is trying to be set on a copy of a slice from a DataFrame.\n",
      "Try using .loc[row_indexer,col_indexer] = value instead\n",
      "\n",
      "See the caveats in the documentation: https://pandas.pydata.org/pandas-docs/stable/user_guide/indexing.html#returning-a-view-versus-a-copy\n",
      "  chunk[\"bert_sentiment\"] = [id2label[p] for p in preds]\n",
      "/var/folders/l9/8hmxymj146lc9m7tzd_r6lbm0000gn/T/ipykernel_15060/1958467566.py:66: SettingWithCopyWarning: \n",
      "A value is trying to be set on a copy of a slice from a DataFrame.\n",
      "Try using .loc[row_indexer,col_indexer] = value instead\n",
      "\n",
      "See the caveats in the documentation: https://pandas.pydata.org/pandas-docs/stable/user_guide/indexing.html#returning-a-view-versus-a-copy\n",
      "  chunk[\"bert_confidence\"] = confs\n",
      "Labeling Chunks:  93%|██████████████▊ | 25/27 [147:05:15<13:15:10, 23855.04s/it]"
     ]
    },
    {
     "name": "stdout",
     "output_type": "stream",
     "text": [
      "\n",
      "🔄 Processing chunk 26\n"
     ]
    },
    {
     "name": "stderr",
     "output_type": "stream",
     "text": [
      "/var/folders/l9/8hmxymj146lc9m7tzd_r6lbm0000gn/T/ipykernel_15060/1958467566.py:65: SettingWithCopyWarning: \n",
      "A value is trying to be set on a copy of a slice from a DataFrame.\n",
      "Try using .loc[row_indexer,col_indexer] = value instead\n",
      "\n",
      "See the caveats in the documentation: https://pandas.pydata.org/pandas-docs/stable/user_guide/indexing.html#returning-a-view-versus-a-copy\n",
      "  chunk[\"bert_sentiment\"] = [id2label[p] for p in preds]\n",
      "/var/folders/l9/8hmxymj146lc9m7tzd_r6lbm0000gn/T/ipykernel_15060/1958467566.py:66: SettingWithCopyWarning: \n",
      "A value is trying to be set on a copy of a slice from a DataFrame.\n",
      "Try using .loc[row_indexer,col_indexer] = value instead\n",
      "\n",
      "See the caveats in the documentation: https://pandas.pydata.org/pandas-docs/stable/user_guide/indexing.html#returning-a-view-versus-a-copy\n",
      "  chunk[\"bert_confidence\"] = confs\n",
      "Labeling Chunks:  96%|████████████████▎| 26/27 [149:23:42<5:19:50, 19190.19s/it]"
     ]
    },
    {
     "name": "stdout",
     "output_type": "stream",
     "text": [
      "\n",
      "🔄 Processing chunk 27\n"
     ]
    },
    {
     "name": "stderr",
     "output_type": "stream",
     "text": [
      "Labeling Chunks: 100%|███████████████████| 27/27 [149:44:08<00:00, 19964.77s/it]\n"
     ]
    }
   ],
   "source": [
    "# time to label all the comments with the fine tuned model \n",
    "import pandas as pd\n",
    "import torch\n",
    "from transformers import BertTokenizer, BertForSequenceClassification\n",
    "from torch.nn.functional import softmax\n",
    "from torch.utils.data import DataLoader, TensorDataset\n",
    "from tqdm import tqdm\n",
    "\n",
    "# --- Load Fine-Tuned Model and Tokenizer ---\n",
    "model_path = \"./final_bert_model\"\n",
    "tokenizer = BertTokenizer.from_pretrained(model_path)\n",
    "model = BertForSequenceClassification.from_pretrained(model_path)\n",
    "model.eval()\n",
    "device = torch.device(\"cuda\" if torch.cuda.is_available() else \"cpu\")\n",
    "model.to(device)\n",
    "\n",
    "# --- Label Mapping ---\n",
    "id2label = {0: \"negative\", 1: \"neutral\", 2: \"positive\"}\n",
    "\n",
    "# --- Define Batch Prediction Function ---\n",
    "def predict_batch(texts, batch_size=64):\n",
    "    \"\"\"Tokenize text and predict sentiment in batches\"\"\"\n",
    "    encodings = tokenizer(texts, truncation=True, padding=True, max_length=256, return_tensors='pt')\n",
    "    dataset = TensorDataset(encodings['input_ids'], encodings['attention_mask'])\n",
    "    loader = DataLoader(dataset, batch_size=batch_size)\n",
    "\n",
    "    preds, confidences = [], []\n",
    "\n",
    "    with torch.no_grad():\n",
    "        for batch in loader:\n",
    "            input_ids, attention_mask = [b.to(device) for b in batch]\n",
    "            outputs = model(input_ids=input_ids, attention_mask=attention_mask)\n",
    "            logits = outputs.logits\n",
    "            probs = softmax(logits, dim=1)\n",
    "            batch_preds = torch.argmax(probs, dim=1).cpu().numpy()\n",
    "            batch_confs = torch.max(probs, dim=1).values.cpu().numpy()\n",
    "\n",
    "            preds.extend(batch_preds)\n",
    "            confidences.extend(batch_confs)\n",
    "\n",
    "    return preds, confidences\n",
    "\n",
    "# --- Set Up Chunked Processing Parameters ---\n",
    "chunksize = 100_000  # Adjust based on your machine's memory\n",
    "input_file = \"super_final_comments.csv\"\n",
    "output_file = \"super_final_comments_labeled.csv\"\n",
    "\n",
    "# --- Read CSV in Chunks and Process ---\n",
    "reader = pd.read_csv(input_file, chunksize=chunksize)\n",
    "total_chunks = sum(1 for _ in pd.read_csv(input_file, chunksize=chunksize))  # Get number of chunks for tqdm\n",
    "\n",
    "for i, chunk in enumerate(tqdm(pd.read_csv(input_file, chunksize=chunksize), total=total_chunks, desc=\"Labeling Chunks\")):\n",
    "    print(f\"\\n🔄 Processing chunk {i + 1}\")\n",
    "\n",
    "    # Drop missing comments\n",
    "    chunk = chunk.dropna(subset=[\"comment\"])\n",
    "\n",
    "    # Extract comment texts\n",
    "    texts = chunk[\"comment\"].astype(str).tolist()\n",
    "\n",
    "    # Predict sentiment and confidence\n",
    "    preds, confs = predict_batch(texts)\n",
    "\n",
    "    # Add predictions to chunk\n",
    "    chunk[\"bert_sentiment\"] = [id2label[p] for p in preds]\n",
    "    chunk[\"bert_confidence\"] = confs\n",
    "\n",
    "    # Save results to CSV incrementally\n",
    "    if i == 0:\n",
    "        chunk.to_csv(output_file, index=False)\n",
    "    else:\n",
    "        chunk.to_csv(output_file, mode=\"a\", index=False, header=False)"
   ]
  },
  {
   "cell_type": "code",
   "execution_count": 40,
   "id": "c0e32542-0407-449c-86f2-ec12c8188dd4",
   "metadata": {},
   "outputs": [],
   "source": [
    "import matplotlib.pyplot as plt\n",
    "import seaborn as sns\n",
    "from sklearn.metrics import confusion_matrix\n",
    "\n",
    "# ...after generating y_true and y_pred\n",
    "cm = confusion_matrix(y_true, y_pred)\n",
    "\n",
    "plt.figure(figsize=(6, 5))\n",
    "sns.heatmap(cm, annot=True, fmt=\"d\", cmap=\"Blues\", \n",
    "            xticklabels=[\"Negative\", \"Neutral\", \"Positive\"], \n",
    "            yticklabels=[\"Negative\", \"Neutral\", \"Positive\"])\n",
    "plt.xlabel(\"Predicted\")\n",
    "plt.ylabel(\"True\")\n",
    "plt.title(\"Confusion Matrix for BERT Sentiment Classifier\")\n",
    "plt.tight_layout()\n",
    "\n",
    "# Save high-res image\n",
    "plt.savefig(\"confusion_matrix.png\", dpi=300)     # for Word\n",
    "plt.savefig(\"confusion_matrix.pdf\")              # if you want vector quality (great for LaTeX)\n",
    "plt.savefig(\"confusion_matrix.svg\")              # optional: for scalable vector in Word or Illustrator\n",
    "plt.close()"
   ]
  },
  {
   "cell_type": "code",
   "execution_count": null,
   "id": "c3a0d741-e1ee-477c-becf-1302741cea8c",
   "metadata": {},
   "outputs": [],
   "source": []
  }
 ],
 "metadata": {
  "kernelspec": {
   "display_name": "Python [conda env:base] *",
   "language": "python",
   "name": "conda-base-py"
  },
  "language_info": {
   "codemirror_mode": {
    "name": "ipython",
    "version": 3
   },
   "file_extension": ".py",
   "mimetype": "text/x-python",
   "name": "python",
   "nbconvert_exporter": "python",
   "pygments_lexer": "ipython3",
   "version": "3.12.7"
  }
 },
 "nbformat": 4,
 "nbformat_minor": 5
}
